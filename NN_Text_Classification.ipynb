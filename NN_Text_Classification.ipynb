{
 "cells": [
  {
   "cell_type": "markdown",
   "id": "2758d0ff",
   "metadata": {},
   "source": [
    "# PROJECT\n",
    "### NEVOLIN DMITRY\n",
    "### 28.10.2023"
   ]
  },
  {
   "cell_type": "code",
   "execution_count": 1,
   "id": "99d4b5cd",
   "metadata": {},
   "outputs": [],
   "source": [
    "import pandas as pd\n",
    "import numpy as np\n",
    "import os\n",
    "import json\n",
    "import matplotlib.pyplot as plt\n",
    "import seaborn as sns"
   ]
  },
  {
   "cell_type": "code",
   "execution_count": 1,
   "id": "6ee96225",
   "metadata": {},
   "outputs": [],
   "source": [
    "#os.listdir()"
   ]
  },
  {
   "cell_type": "code",
   "execution_count": 3,
   "id": "9ac15c26",
   "metadata": {},
   "outputs": [],
   "source": [
    "with open('reviews.json', 'r', encoding='utf-8') as f:\n",
    "    mydata = json.load(f)"
   ]
  },
  {
   "cell_type": "code",
   "execution_count": 4,
   "id": "d772b3c0",
   "metadata": {},
   "outputs": [],
   "source": [
    "data = pd.DataFrame.from_dict(mydata['paper'])"
   ]
  },
  {
   "cell_type": "code",
   "execution_count": 5,
   "id": "e3bb2e2a",
   "metadata": {},
   "outputs": [
    {
     "data": {
      "text/html": [
       "<div>\n",
       "<style scoped>\n",
       "    .dataframe tbody tr th:only-of-type {\n",
       "        vertical-align: middle;\n",
       "    }\n",
       "\n",
       "    .dataframe tbody tr th {\n",
       "        vertical-align: top;\n",
       "    }\n",
       "\n",
       "    .dataframe thead th {\n",
       "        text-align: right;\n",
       "    }\n",
       "</style>\n",
       "<table border=\"1\" class=\"dataframe\">\n",
       "  <thead>\n",
       "    <tr style=\"text-align: right;\">\n",
       "      <th></th>\n",
       "      <th>id</th>\n",
       "      <th>preliminary_decision</th>\n",
       "      <th>review</th>\n",
       "    </tr>\n",
       "  </thead>\n",
       "  <tbody>\n",
       "    <tr>\n",
       "      <th>0</th>\n",
       "      <td>1</td>\n",
       "      <td>accept</td>\n",
       "      <td>[{'confidence': '4', 'evaluation': '1', 'id': ...</td>\n",
       "    </tr>\n",
       "    <tr>\n",
       "      <th>1</th>\n",
       "      <td>2</td>\n",
       "      <td>accept</td>\n",
       "      <td>[{'confidence': '4', 'evaluation': '2', 'id': ...</td>\n",
       "    </tr>\n",
       "    <tr>\n",
       "      <th>2</th>\n",
       "      <td>3</td>\n",
       "      <td>accept</td>\n",
       "      <td>[{'confidence': '4', 'evaluation': '2', 'id': ...</td>\n",
       "    </tr>\n",
       "    <tr>\n",
       "      <th>3</th>\n",
       "      <td>4</td>\n",
       "      <td>accept</td>\n",
       "      <td>[{'confidence': '4', 'evaluation': '2', 'id': ...</td>\n",
       "    </tr>\n",
       "    <tr>\n",
       "      <th>4</th>\n",
       "      <td>5</td>\n",
       "      <td>accept</td>\n",
       "      <td>[{'confidence': '4', 'evaluation': '2', 'id': ...</td>\n",
       "    </tr>\n",
       "  </tbody>\n",
       "</table>\n",
       "</div>"
      ],
      "text/plain": [
       "   id preliminary_decision                                             review\n",
       "0   1               accept  [{'confidence': '4', 'evaluation': '1', 'id': ...\n",
       "1   2               accept  [{'confidence': '4', 'evaluation': '2', 'id': ...\n",
       "2   3               accept  [{'confidence': '4', 'evaluation': '2', 'id': ...\n",
       "3   4               accept  [{'confidence': '4', 'evaluation': '2', 'id': ...\n",
       "4   5               accept  [{'confidence': '4', 'evaluation': '2', 'id': ..."
      ]
     },
     "execution_count": 5,
     "metadata": {},
     "output_type": "execute_result"
    }
   ],
   "source": [
    "data.head()"
   ]
  },
  {
   "cell_type": "code",
   "execution_count": 6,
   "id": "f2fdece2",
   "metadata": {},
   "outputs": [
    {
     "data": {
      "text/plain": [
       "(172, 3)"
      ]
     },
     "execution_count": 6,
     "metadata": {},
     "output_type": "execute_result"
    }
   ],
   "source": [
    "data.shape"
   ]
  },
  {
   "cell_type": "code",
   "execution_count": 7,
   "id": "622a5646",
   "metadata": {},
   "outputs": [],
   "source": [
    "df = pd.DataFrame(data.review[0])\n",
    "\n",
    "for i in data.review[1:len(data.review)]:\n",
    "    el = pd.DataFrame(i)\n",
    "    df = pd.concat([df, el])"
   ]
  },
  {
   "cell_type": "code",
   "execution_count": 8,
   "id": "c3dfa3f4",
   "metadata": {},
   "outputs": [
    {
     "data": {
      "text/html": [
       "<div>\n",
       "<style scoped>\n",
       "    .dataframe tbody tr th:only-of-type {\n",
       "        vertical-align: middle;\n",
       "    }\n",
       "\n",
       "    .dataframe tbody tr th {\n",
       "        vertical-align: top;\n",
       "    }\n",
       "\n",
       "    .dataframe thead th {\n",
       "        text-align: right;\n",
       "    }\n",
       "</style>\n",
       "<table border=\"1\" class=\"dataframe\">\n",
       "  <thead>\n",
       "    <tr style=\"text-align: right;\">\n",
       "      <th></th>\n",
       "      <th>evaluation</th>\n",
       "      <th>lan</th>\n",
       "      <th>text</th>\n",
       "    </tr>\n",
       "  </thead>\n",
       "  <tbody>\n",
       "    <tr>\n",
       "      <th>0</th>\n",
       "      <td>1</td>\n",
       "      <td>es</td>\n",
       "      <td>- El artículo aborda un problema contingente y...</td>\n",
       "    </tr>\n",
       "    <tr>\n",
       "      <th>1</th>\n",
       "      <td>1</td>\n",
       "      <td>es</td>\n",
       "      <td>El artículo presenta recomendaciones prácticas...</td>\n",
       "    </tr>\n",
       "    <tr>\n",
       "      <th>2</th>\n",
       "      <td>1</td>\n",
       "      <td>es</td>\n",
       "      <td>- El tema es muy interesante y puede ser de mu...</td>\n",
       "    </tr>\n",
       "    <tr>\n",
       "      <th>3</th>\n",
       "      <td>2</td>\n",
       "      <td>es</td>\n",
       "      <td>Se explica en forma ordenada y didáctica una e...</td>\n",
       "    </tr>\n",
       "    <tr>\n",
       "      <th>4</th>\n",
       "      <td>2</td>\n",
       "      <td>es</td>\n",
       "      <td></td>\n",
       "    </tr>\n",
       "    <tr>\n",
       "      <th>...</th>\n",
       "      <td>...</td>\n",
       "      <td>...</td>\n",
       "      <td>...</td>\n",
       "    </tr>\n",
       "    <tr>\n",
       "      <th>400</th>\n",
       "      <td>-1</td>\n",
       "      <td>es</td>\n",
       "      <td>El trabajo pretende ofrecer una visión del uso...</td>\n",
       "    </tr>\n",
       "    <tr>\n",
       "      <th>401</th>\n",
       "      <td>-1</td>\n",
       "      <td>es</td>\n",
       "      <td>El paper está bien escrito y de fácil lectura....</td>\n",
       "    </tr>\n",
       "    <tr>\n",
       "      <th>402</th>\n",
       "      <td>-1</td>\n",
       "      <td>es</td>\n",
       "      <td>Observación de fondo:  No se presenta un ejemp...</td>\n",
       "    </tr>\n",
       "    <tr>\n",
       "      <th>403</th>\n",
       "      <td>1</td>\n",
       "      <td>es</td>\n",
       "      <td>Se propone un procedimiento para elaborar máqu...</td>\n",
       "    </tr>\n",
       "    <tr>\n",
       "      <th>404</th>\n",
       "      <td>1</td>\n",
       "      <td>es</td>\n",
       "      <td>El artículo describe básicamente los component...</td>\n",
       "    </tr>\n",
       "  </tbody>\n",
       "</table>\n",
       "<p>405 rows × 3 columns</p>\n",
       "</div>"
      ],
      "text/plain": [
       "    evaluation lan                                               text\n",
       "0            1  es  - El artículo aborda un problema contingente y...\n",
       "1            1  es  El artículo presenta recomendaciones prácticas...\n",
       "2            1  es  - El tema es muy interesante y puede ser de mu...\n",
       "3            2  es  Se explica en forma ordenada y didáctica una e...\n",
       "4            2  es                                                   \n",
       "..         ...  ..                                                ...\n",
       "400         -1  es  El trabajo pretende ofrecer una visión del uso...\n",
       "401         -1  es  El paper está bien escrito y de fácil lectura....\n",
       "402         -1  es  Observación de fondo:  No se presenta un ejemp...\n",
       "403          1  es  Se propone un procedimiento para elaborar máqu...\n",
       "404          1  es  El artículo describe básicamente los component...\n",
       "\n",
       "[405 rows x 3 columns]"
      ]
     },
     "execution_count": 8,
     "metadata": {},
     "output_type": "execute_result"
    }
   ],
   "source": [
    "df.index = [i for i in range(df.shape[0])]\n",
    "\n",
    "df = df[['evaluation', 'lan', 'text']]\n",
    "\n",
    "df"
   ]
  },
  {
   "cell_type": "code",
   "execution_count": 9,
   "id": "d2f8796d",
   "metadata": {},
   "outputs": [
    {
     "data": {
      "text/html": [
       "<div>\n",
       "<style scoped>\n",
       "    .dataframe tbody tr th:only-of-type {\n",
       "        vertical-align: middle;\n",
       "    }\n",
       "\n",
       "    .dataframe tbody tr th {\n",
       "        vertical-align: top;\n",
       "    }\n",
       "\n",
       "    .dataframe thead th {\n",
       "        text-align: right;\n",
       "    }\n",
       "</style>\n",
       "<table border=\"1\" class=\"dataframe\">\n",
       "  <thead>\n",
       "    <tr style=\"text-align: right;\">\n",
       "      <th></th>\n",
       "      <th>evaluation</th>\n",
       "      <th>lan</th>\n",
       "      <th>text</th>\n",
       "    </tr>\n",
       "  </thead>\n",
       "  <tbody>\n",
       "    <tr>\n",
       "      <th>4</th>\n",
       "      <td>2</td>\n",
       "      <td>es</td>\n",
       "      <td></td>\n",
       "    </tr>\n",
       "    <tr>\n",
       "      <th>40</th>\n",
       "      <td>0</td>\n",
       "      <td>es</td>\n",
       "      <td></td>\n",
       "    </tr>\n",
       "    <tr>\n",
       "      <th>45</th>\n",
       "      <td>2</td>\n",
       "      <td>es</td>\n",
       "      <td></td>\n",
       "    </tr>\n",
       "    <tr>\n",
       "      <th>67</th>\n",
       "      <td>2</td>\n",
       "      <td>es</td>\n",
       "      <td></td>\n",
       "    </tr>\n",
       "    <tr>\n",
       "      <th>70</th>\n",
       "      <td>1</td>\n",
       "      <td>es</td>\n",
       "      <td></td>\n",
       "    </tr>\n",
       "    <tr>\n",
       "      <th>108</th>\n",
       "      <td>0</td>\n",
       "      <td>es</td>\n",
       "      <td></td>\n",
       "    </tr>\n",
       "  </tbody>\n",
       "</table>\n",
       "</div>"
      ],
      "text/plain": [
       "    evaluation lan text\n",
       "4            2  es     \n",
       "40           0  es     \n",
       "45           2  es     \n",
       "67           2  es     \n",
       "70           1  es     \n",
       "108          0  es     "
      ]
     },
     "execution_count": 9,
     "metadata": {},
     "output_type": "execute_result"
    }
   ],
   "source": [
    "df.query('text == \"\"')"
   ]
  },
  {
   "cell_type": "code",
   "execution_count": 10,
   "id": "66a1cab6",
   "metadata": {},
   "outputs": [
    {
     "data": {
      "text/html": [
       "<div>\n",
       "<style scoped>\n",
       "    .dataframe tbody tr th:only-of-type {\n",
       "        vertical-align: middle;\n",
       "    }\n",
       "\n",
       "    .dataframe tbody tr th {\n",
       "        vertical-align: top;\n",
       "    }\n",
       "\n",
       "    .dataframe thead th {\n",
       "        text-align: right;\n",
       "    }\n",
       "</style>\n",
       "<table border=\"1\" class=\"dataframe\">\n",
       "  <thead>\n",
       "    <tr style=\"text-align: right;\">\n",
       "      <th></th>\n",
       "      <th>evaluation</th>\n",
       "      <th>lan</th>\n",
       "      <th>text</th>\n",
       "    </tr>\n",
       "  </thead>\n",
       "  <tbody>\n",
       "    <tr>\n",
       "      <th>0</th>\n",
       "      <td>1</td>\n",
       "      <td>es</td>\n",
       "      <td>- El artículo aborda un problema contingente y...</td>\n",
       "    </tr>\n",
       "    <tr>\n",
       "      <th>1</th>\n",
       "      <td>1</td>\n",
       "      <td>es</td>\n",
       "      <td>El artículo presenta recomendaciones prácticas...</td>\n",
       "    </tr>\n",
       "    <tr>\n",
       "      <th>2</th>\n",
       "      <td>1</td>\n",
       "      <td>es</td>\n",
       "      <td>- El tema es muy interesante y puede ser de mu...</td>\n",
       "    </tr>\n",
       "    <tr>\n",
       "      <th>3</th>\n",
       "      <td>2</td>\n",
       "      <td>es</td>\n",
       "      <td>Se explica en forma ordenada y didáctica una e...</td>\n",
       "    </tr>\n",
       "    <tr>\n",
       "      <th>4</th>\n",
       "      <td>2</td>\n",
       "      <td>es</td>\n",
       "      <td>Los autores describen una metodología para des...</td>\n",
       "    </tr>\n",
       "    <tr>\n",
       "      <th>...</th>\n",
       "      <td>...</td>\n",
       "      <td>...</td>\n",
       "      <td>...</td>\n",
       "    </tr>\n",
       "    <tr>\n",
       "      <th>394</th>\n",
       "      <td>-1</td>\n",
       "      <td>es</td>\n",
       "      <td>El trabajo pretende ofrecer una visión del uso...</td>\n",
       "    </tr>\n",
       "    <tr>\n",
       "      <th>395</th>\n",
       "      <td>-1</td>\n",
       "      <td>es</td>\n",
       "      <td>El paper está bien escrito y de fácil lectura....</td>\n",
       "    </tr>\n",
       "    <tr>\n",
       "      <th>396</th>\n",
       "      <td>-1</td>\n",
       "      <td>es</td>\n",
       "      <td>Observación de fondo:  No se presenta un ejemp...</td>\n",
       "    </tr>\n",
       "    <tr>\n",
       "      <th>397</th>\n",
       "      <td>1</td>\n",
       "      <td>es</td>\n",
       "      <td>Se propone un procedimiento para elaborar máqu...</td>\n",
       "    </tr>\n",
       "    <tr>\n",
       "      <th>398</th>\n",
       "      <td>1</td>\n",
       "      <td>es</td>\n",
       "      <td>El artículo describe básicamente los component...</td>\n",
       "    </tr>\n",
       "  </tbody>\n",
       "</table>\n",
       "<p>399 rows × 3 columns</p>\n",
       "</div>"
      ],
      "text/plain": [
       "    evaluation lan                                               text\n",
       "0            1  es  - El artículo aborda un problema contingente y...\n",
       "1            1  es  El artículo presenta recomendaciones prácticas...\n",
       "2            1  es  - El tema es muy interesante y puede ser de mu...\n",
       "3            2  es  Se explica en forma ordenada y didáctica una e...\n",
       "4            2  es  Los autores describen una metodología para des...\n",
       "..         ...  ..                                                ...\n",
       "394         -1  es  El trabajo pretende ofrecer una visión del uso...\n",
       "395         -1  es  El paper está bien escrito y de fácil lectura....\n",
       "396         -1  es  Observación de fondo:  No se presenta un ejemp...\n",
       "397          1  es  Se propone un procedimiento para elaborar máqu...\n",
       "398          1  es  El artículo describe básicamente los component...\n",
       "\n",
       "[399 rows x 3 columns]"
      ]
     },
     "execution_count": 10,
     "metadata": {},
     "output_type": "execute_result"
    }
   ],
   "source": [
    "df1 = df.drop(df.query('text == \"\"').index.to_list(), axis=0).\\\n",
    "reset_index().drop('index', axis=1)\n",
    "\n",
    "df1"
   ]
  },
  {
   "cell_type": "code",
   "execution_count": 11,
   "id": "9577669e",
   "metadata": {},
   "outputs": [
    {
     "data": {
      "text/plain": [
       "evaluation    0\n",
       "lan           0\n",
       "text          0\n",
       "dtype: int64"
      ]
     },
     "execution_count": 11,
     "metadata": {},
     "output_type": "execute_result"
    }
   ],
   "source": [
    "df1.isna().sum()"
   ]
  },
  {
   "cell_type": "code",
   "execution_count": 12,
   "id": "a9284467",
   "metadata": {},
   "outputs": [
    {
     "data": {
      "image/png": "[encoded data removed]",
      "text/plain": [
       "<Figure size 640x480 with 1 Axes>"
      ]
     },
     "metadata": {},
     "output_type": "display_data"
    }
   ],
   "source": [
    "ax = sns.countplot(x='lan', data=df1,\n",
    "             palette='muted')\n",
    "sns.despine()\n",
    "ax.set_xticklabels(['Spanish', 'English'])\n",
    "plt.xlabel('')\n",
    "plt.ylabel('')\n",
    "plt.show()"
   ]
  },
  {
   "cell_type": "code",
   "execution_count": 13,
   "id": "5b31a53e",
   "metadata": {},
   "outputs": [
    {
     "data": {
      "image/png": "[encoded data removed]",
      "text/plain": [
       "<Figure size 640x480 with 1 Axes>"
      ]
     },
     "metadata": {},
     "output_type": "display_data"
    }
   ],
   "source": [
    "ax = sns.countplot(x='evaluation', data=df1,\n",
    "             palette='muted', order = df.evaluation.value_counts().sort_index().index)\n",
    "sns.despine()\n",
    "plt.xlabel('')\n",
    "plt.ylabel('')\n",
    "plt.show()"
   ]
  },
  {
   "cell_type": "code",
   "execution_count": null,
   "id": "8e788cf8",
   "metadata": {},
   "outputs": [],
   "source": []
  },
  {
   "cell_type": "code",
   "execution_count": 14,
   "id": "0d2a194c",
   "metadata": {},
   "outputs": [],
   "source": [
    "import spacy\n",
    "import re\n",
    "import tqdm\n",
    "import time"
   ]
  },
  {
   "cell_type": "markdown",
   "id": "ab66651a",
   "metadata": {},
   "source": [
    "## Working with Spanish"
   ]
  },
  {
   "cell_type": "code",
   "execution_count": 15,
   "id": "fc7ff99d",
   "metadata": {},
   "outputs": [],
   "source": [
    "df1_es = df1.query('lan == \"es\"')['text']"
   ]
  },
  {
   "cell_type": "code",
   "execution_count": 16,
   "id": "3ea95b30",
   "metadata": {},
   "outputs": [
    {
     "data": {
      "text/plain": [
       "0      - El artículo aborda un problema contingente y...\n",
       "1      El artículo presenta recomendaciones prácticas...\n",
       "2      - El tema es muy interesante y puede ser de mu...\n",
       "3      Se explica en forma ordenada y didáctica una e...\n",
       "4      Los autores describen una metodología para des...\n",
       "                             ...                        \n",
       "394    El trabajo pretende ofrecer una visión del uso...\n",
       "395    El paper está bien escrito y de fácil lectura....\n",
       "396    Observación de fondo:  No se presenta un ejemp...\n",
       "397    Se propone un procedimiento para elaborar máqu...\n",
       "398    El artículo describe básicamente los component...\n",
       "Name: text, Length: 382, dtype: object"
      ]
     },
     "execution_count": 16,
     "metadata": {},
     "output_type": "execute_result"
    }
   ],
   "source": [
    "df1_es"
   ]
  },
  {
   "cell_type": "code",
   "execution_count": 17,
   "id": "bf6b0806",
   "metadata": {},
   "outputs": [],
   "source": [
    "#!python -m spacy download es_core_news_sm"
   ]
  },
  {
   "cell_type": "code",
   "execution_count": 18,
   "id": "fb8f5f1f",
   "metadata": {},
   "outputs": [],
   "source": [
    "nlp = spacy.load('es_core_news_sm')"
   ]
  },
  {
   "cell_type": "code",
   "execution_count": 19,
   "id": "7895826f",
   "metadata": {},
   "outputs": [
    {
     "name": "stderr",
     "output_type": "stream",
     "text": [
      "100%|██████████| 382/382 [00:17<00:00, 22.44it/s]"
     ]
    },
    {
     "name": "stdout",
     "output_type": "stream",
     "text": [
      "17.029375553131104 sec\n"
     ]
    },
    {
     "name": "stderr",
     "output_type": "stream",
     "text": [
      "\n"
     ]
    }
   ],
   "source": [
    "lemma_data = []\n",
    "\n",
    "start = time.time()\n",
    "\n",
    "for i in tqdm.tqdm(df1_es):\n",
    "    s = re.sub(r\"[«,».¿“/@#?$12-34-5678:;90#—ツ►๑۩۞۩•\\n*”˜˜”*°°*`)(]\", '', i)\n",
    "    \n",
    "    doc = nlp(s)\n",
    "    \n",
    "    ls = [i.lemma_ for i in doc if not i.is_stop and i.lemma_ not in [' ', '-', '   ', '\"', '[', ']']]\n",
    "    \n",
    "    text = ' '.join(ls)\n",
    "    \n",
    "    text = text.strip()\n",
    "    \n",
    "    lemma_data.append(text)\n",
    "    \n",
    "finish = time.time()\n",
    "\n",
    "print(finish - start, 'sec')"
   ]
  },
  {
   "cell_type": "code",
   "execution_count": 20,
   "id": "24088ae4",
   "metadata": {},
   "outputs": [
    {
     "data": {
      "text/plain": [
       "'artículo abordar problema contingente relevante incluir diagnóstico nacional práctica solución práctica concreto lenguaje adecuado artículo sentir concatenación artículo resultado encuesta práctica seguridad incorporación práctica orden sección reflejar orden versión revisado artículo validación tipo siquiera evaluación experto'"
      ]
     },
     "execution_count": 20,
     "metadata": {},
     "output_type": "execute_result"
    }
   ],
   "source": [
    "lemma_data[0]"
   ]
  },
  {
   "cell_type": "code",
   "execution_count": 21,
   "id": "cb52b9f6",
   "metadata": {},
   "outputs": [
    {
     "data": {
      "text/plain": [
       "382"
      ]
     },
     "execution_count": 21,
     "metadata": {},
     "output_type": "execute_result"
    }
   ],
   "source": [
    "len(lemma_data)"
   ]
  },
  {
   "cell_type": "code",
   "execution_count": null,
   "id": "9a1d00aa",
   "metadata": {},
   "outputs": [],
   "source": [
    " "
   ]
  },
  {
   "cell_type": "code",
   "execution_count": 25,
   "id": "87715c21",
   "metadata": {},
   "outputs": [],
   "source": [
    "unique_ls = []\n",
    "\n",
    "for i in lemma_data:\n",
    "    for j in i.split():\n",
    "        if j in unique_ls:\n",
    "            continue\n",
    "        else:\n",
    "            unique_ls.append(j)"
   ]
  },
  {
   "cell_type": "code",
   "execution_count": 27,
   "id": "67753730",
   "metadata": {},
   "outputs": [],
   "source": [
    "import fasttext\n",
    "import fasttext.util"
   ]
  },
  {
   "cell_type": "code",
   "execution_count": 28,
   "id": "3615795d",
   "metadata": {},
   "outputs": [
    {
     "name": "stderr",
     "output_type": "stream",
     "text": [
      "Warning : `load_model` does not return WordVectorModel or SupervisedModel any more, but a `FastText` object which is very similar.\n"
     ]
    },
    {
     "data": {
      "text/plain": [
       "<fasttext.FastText._FastText at 0x27834519550>"
      ]
     },
     "execution_count": 28,
     "metadata": {},
     "output_type": "execute_result"
    }
   ],
   "source": [
    "ft = fasttext.load_model('cc.es.300.bin')\n",
    "fasttext.util.reduce_model(ft, 100) #fasttext model for Spanish"
   ]
  },
  {
   "cell_type": "code",
   "execution_count": 29,
   "id": "efea5d48",
   "metadata": {},
   "outputs": [
    {
     "name": "stderr",
     "output_type": "stream",
     "text": [
      "Warning : `load_model` does not return WordVectorModel or SupervisedModel any more, but a `FastText` object which is very similar.\n"
     ]
    },
    {
     "data": {
      "text/plain": [
       "<fasttext.FastText._FastText at 0x278329cc160>"
      ]
     },
     "execution_count": 29,
     "metadata": {},
     "output_type": "execute_result"
    }
   ],
   "source": [
    "ft_en = fasttext.load_model('cc.en.300.bin')\n",
    "fasttext.util.reduce_model(ft_en, 100) #fasttext model for English"
   ]
  },
  {
   "cell_type": "code",
   "execution_count": 30,
   "id": "11ed70e1",
   "metadata": {},
   "outputs": [],
   "source": [
    "embeddings_index = {}\n",
    "\n",
    "for i in unique_ls:\n",
    "    embeddings_index[i] = list(ft.get_word_vector(i))"
   ]
  },
  {
   "cell_type": "code",
   "execution_count": 31,
   "id": "33235c20",
   "metadata": {},
   "outputs": [
    {
     "data": {
      "text/plain": [
       "4802"
      ]
     },
     "execution_count": 31,
     "metadata": {},
     "output_type": "execute_result"
    }
   ],
   "source": [
    "len(embeddings_index)"
   ]
  },
  {
   "cell_type": "code",
   "execution_count": 33,
   "id": "64fce5ee",
   "metadata": {},
   "outputs": [
    {
     "data": {
      "text/plain": [
       "array([[ 0.        ,  0.        ,  0.        , ...,  0.        ,\n",
       "         0.        ,  0.        ],\n",
       "       [ 0.01995155,  0.0208835 , -0.03504385, ...,  0.02915002,\n",
       "         0.03614547,  0.01691689],\n",
       "       [ 0.10744479, -0.02492733,  0.05492505, ..., -0.0146158 ,\n",
       "         0.01578883, -0.01382954],\n",
       "       ...,\n",
       "       [-0.20483492,  0.22830248, -0.14993092, ...,  0.08563478,\n",
       "        -0.15102233,  0.11457791],\n",
       "       [ 0.11073396, -0.09704914, -0.04307068, ..., -0.03177505,\n",
       "        -0.00728891, -0.01824209],\n",
       "       [ 0.08065788, -0.01313456,  0.0398618 , ..., -0.00621988,\n",
       "        -0.03003248,  0.03173293]])"
      ]
     },
     "execution_count": 33,
     "metadata": {},
     "output_type": "execute_result"
    }
   ],
   "source": [
    "#embedding metrix for Spanish\n",
    "\n",
    "np.random.seed(100)\n",
    "\n",
    "embedding_matrix = np.zeros((4000, 100))\n",
    "j=0\n",
    "for word, i in embeddings_index.items():\n",
    "    j=j+1\n",
    "    if j < 4000:\n",
    "        embedding_vector = embeddings_index.get(word)\n",
    "    #print(embedding_vector)\n",
    "        if embedding_vector is not None:\n",
    "            embedding_matrix[j] = embedding_vector\n",
    "embedding_matrix"
   ]
  },
  {
   "cell_type": "markdown",
   "id": "0a7d8c7c",
   "metadata": {},
   "source": [
    "### Working with English"
   ]
  },
  {
   "cell_type": "code",
   "execution_count": 34,
   "id": "eb76b0f1",
   "metadata": {},
   "outputs": [
    {
     "data": {
      "text/plain": [
       "6      This paper aims to show new deployment alterna...\n",
       "7      The paper is well structured. It follows a log...\n",
       "18     The paper describes an experience concerning t...\n",
       "19     This manuscript addresses an interesting solut...\n",
       "20     Interesting application domain.  Nothing new f...\n",
       "29     This paper presents a software tool that is us...\n",
       "45     This paper is very interesting, I like the ide...\n",
       "73     I don't think the work reported in this paper ...\n",
       "83     Abstract: Needs to have a definition of ERP - ...\n",
       "94     The paper introduces a segmentation procedure ...\n",
       "96     The paper presents a medical test based on ima...\n",
       "152    This is a developed application to support inf...\n",
       "303    •I recommend to change the paper title in orde...\n",
       "350    The authors made an exhaustive study on public...\n",
       "360    This work gives expected results and creates a...\n",
       "361    This is an interesting article, present develo...\n",
       "378    this paper applies an advanced algorithm to ga...\n",
       "Name: text, dtype: object"
      ]
     },
     "execution_count": 34,
     "metadata": {},
     "output_type": "execute_result"
    }
   ],
   "source": [
    "df1_en = df1.query('lan == \"en\"')['text']\n",
    "\n",
    "df1_en"
   ]
  },
  {
   "cell_type": "code",
   "execution_count": 35,
   "id": "cb96afc7",
   "metadata": {},
   "outputs": [],
   "source": [
    "nlp_en = spacy.load('en_core_web_sm')"
   ]
  },
  {
   "cell_type": "code",
   "execution_count": 36,
   "id": "73ebeb06",
   "metadata": {},
   "outputs": [
    {
     "name": "stderr",
     "output_type": "stream",
     "text": [
      "100%|██████████| 17/17 [00:01<00:00, 15.99it/s]"
     ]
    },
    {
     "name": "stdout",
     "output_type": "stream",
     "text": [
      "1.0670740604400635 sec\n"
     ]
    },
    {
     "name": "stderr",
     "output_type": "stream",
     "text": [
      "\n"
     ]
    }
   ],
   "source": [
    "lemma_data_en = []\n",
    "\n",
    "start = time.time()\n",
    "\n",
    "for i in tqdm.tqdm(df1_en):\n",
    "    s = re.sub(r\"[«,».“/@#$12-34-5678:;90#—ツ►๑۩۞۩•\\n*”˜˜”*°°*`)(]\", '', i)\n",
    "    \n",
    "    doc = nlp_en(s)\n",
    "    \n",
    "    ls = [i.lemma_ for i in doc if not i.is_stop and i.lemma_ not in [' ', '-', '   ', '\"']]\n",
    "    \n",
    "    text = ' '.join(ls)\n",
    "    \n",
    "    text = text.strip()\n",
    "    \n",
    "    lemma_data_en.append(text)\n",
    "    \n",
    "finish = time.time()\n",
    "\n",
    "print(finish - start, 'sec')"
   ]
  },
  {
   "cell_type": "code",
   "execution_count": 37,
   "id": "49c41666",
   "metadata": {},
   "outputs": [
    {
     "data": {
      "text/plain": [
       "'paper aim new deployment alternative recommender system end author use variation CHC genetic algorithm good job clear detailed inconsistency notation improve formula notation different rest equation point figure refer perfil pesos euclidiana vecindad word relate text think result show graph useful show table'"
      ]
     },
     "execution_count": 37,
     "metadata": {},
     "output_type": "execute_result"
    }
   ],
   "source": [
    "lemma_data_en[0]"
   ]
  },
  {
   "cell_type": "code",
   "execution_count": 38,
   "id": "dc36e204",
   "metadata": {},
   "outputs": [
    {
     "data": {
      "text/plain": [
       "17"
      ]
     },
     "execution_count": 38,
     "metadata": {},
     "output_type": "execute_result"
    }
   ],
   "source": [
    "len(lemma_data_en)"
   ]
  },
  {
   "cell_type": "markdown",
   "id": "d2757b6f",
   "metadata": {},
   "source": [
    "## Padded Sequence for both Languages Together"
   ]
  },
  {
   "cell_type": "code",
   "execution_count": 39,
   "id": "d413eaef",
   "metadata": {},
   "outputs": [],
   "source": [
    "lemma_data.extend(lemma_data_en)"
   ]
  },
  {
   "cell_type": "code",
   "execution_count": 40,
   "id": "007e3211",
   "metadata": {},
   "outputs": [
    {
     "data": {
      "text/plain": [
       "399"
      ]
     },
     "execution_count": 40,
     "metadata": {},
     "output_type": "execute_result"
    }
   ],
   "source": [
    "len(lemma_data)"
   ]
  },
  {
   "cell_type": "code",
   "execution_count": 42,
   "id": "5269f41c",
   "metadata": {},
   "outputs": [],
   "source": [
    "from tensorflow.keras.preprocessing.text import Tokenizer"
   ]
  },
  {
   "cell_type": "code",
   "execution_count": 43,
   "id": "eb1b3d72",
   "metadata": {},
   "outputs": [],
   "source": [
    "max_words = 1000\n",
    "tokenizer = Tokenizer(num_words = max_words)"
   ]
  },
  {
   "cell_type": "code",
   "execution_count": 44,
   "id": "ecb140fb",
   "metadata": {},
   "outputs": [],
   "source": [
    "tokenizer.fit_on_texts(lemma_data)"
   ]
  },
  {
   "cell_type": "code",
   "execution_count": 45,
   "id": "479ce21c",
   "metadata": {},
   "outputs": [],
   "source": [
    "word_index = tokenizer.word_index"
   ]
  },
  {
   "cell_type": "code",
   "execution_count": 46,
   "id": "96aa9b3e",
   "metadata": {},
   "outputs": [],
   "source": [
    "from tensorflow.keras.preprocessing.sequence import pad_sequences\n",
    "\n",
    "sequences = tokenizer.texts_to_sequences(lemma_data)"
   ]
  },
  {
   "cell_type": "code",
   "execution_count": 47,
   "id": "2d4bb5b1",
   "metadata": {},
   "outputs": [
    {
     "data": {
      "text/plain": [
       "(399, 500)"
      ]
     },
     "execution_count": 47,
     "metadata": {},
     "output_type": "execute_result"
    }
   ],
   "source": [
    "my_max_len = 500\n",
    "# align the documents to the specified value\n",
    "padded_seq = pad_sequences(sequences, maxlen=my_max_len, \n",
    "                       padding='post', truncating='post')\n",
    "padded_seq.shape"
   ]
  },
  {
   "cell_type": "code",
   "execution_count": 48,
   "id": "90a6769b",
   "metadata": {},
   "outputs": [
    {
     "data": {
      "text/html": [
       "<div>\n",
       "<style scoped>\n",
       "    .dataframe tbody tr th:only-of-type {\n",
       "        vertical-align: middle;\n",
       "    }\n",
       "\n",
       "    .dataframe tbody tr th {\n",
       "        vertical-align: top;\n",
       "    }\n",
       "\n",
       "    .dataframe thead th {\n",
       "        text-align: right;\n",
       "    }\n",
       "</style>\n",
       "<table border=\"1\" class=\"dataframe\">\n",
       "  <thead>\n",
       "    <tr style=\"text-align: right;\">\n",
       "      <th></th>\n",
       "      <th>-1</th>\n",
       "      <th>-2</th>\n",
       "      <th>0</th>\n",
       "      <th>1</th>\n",
       "      <th>2</th>\n",
       "    </tr>\n",
       "  </thead>\n",
       "  <tbody>\n",
       "    <tr>\n",
       "      <th>0</th>\n",
       "      <td>0</td>\n",
       "      <td>0</td>\n",
       "      <td>0</td>\n",
       "      <td>1</td>\n",
       "      <td>0</td>\n",
       "    </tr>\n",
       "    <tr>\n",
       "      <th>1</th>\n",
       "      <td>0</td>\n",
       "      <td>0</td>\n",
       "      <td>0</td>\n",
       "      <td>1</td>\n",
       "      <td>0</td>\n",
       "    </tr>\n",
       "    <tr>\n",
       "      <th>2</th>\n",
       "      <td>0</td>\n",
       "      <td>0</td>\n",
       "      <td>0</td>\n",
       "      <td>1</td>\n",
       "      <td>0</td>\n",
       "    </tr>\n",
       "    <tr>\n",
       "      <th>3</th>\n",
       "      <td>0</td>\n",
       "      <td>0</td>\n",
       "      <td>0</td>\n",
       "      <td>0</td>\n",
       "      <td>1</td>\n",
       "    </tr>\n",
       "    <tr>\n",
       "      <th>4</th>\n",
       "      <td>0</td>\n",
       "      <td>0</td>\n",
       "      <td>0</td>\n",
       "      <td>0</td>\n",
       "      <td>1</td>\n",
       "    </tr>\n",
       "    <tr>\n",
       "      <th>...</th>\n",
       "      <td>...</td>\n",
       "      <td>...</td>\n",
       "      <td>...</td>\n",
       "      <td>...</td>\n",
       "      <td>...</td>\n",
       "    </tr>\n",
       "    <tr>\n",
       "      <th>303</th>\n",
       "      <td>0</td>\n",
       "      <td>0</td>\n",
       "      <td>0</td>\n",
       "      <td>1</td>\n",
       "      <td>0</td>\n",
       "    </tr>\n",
       "    <tr>\n",
       "      <th>350</th>\n",
       "      <td>0</td>\n",
       "      <td>0</td>\n",
       "      <td>0</td>\n",
       "      <td>0</td>\n",
       "      <td>1</td>\n",
       "    </tr>\n",
       "    <tr>\n",
       "      <th>360</th>\n",
       "      <td>0</td>\n",
       "      <td>0</td>\n",
       "      <td>0</td>\n",
       "      <td>1</td>\n",
       "      <td>0</td>\n",
       "    </tr>\n",
       "    <tr>\n",
       "      <th>361</th>\n",
       "      <td>0</td>\n",
       "      <td>0</td>\n",
       "      <td>0</td>\n",
       "      <td>0</td>\n",
       "      <td>1</td>\n",
       "    </tr>\n",
       "    <tr>\n",
       "      <th>378</th>\n",
       "      <td>0</td>\n",
       "      <td>0</td>\n",
       "      <td>1</td>\n",
       "      <td>0</td>\n",
       "      <td>0</td>\n",
       "    </tr>\n",
       "  </tbody>\n",
       "</table>\n",
       "<p>399 rows × 5 columns</p>\n",
       "</div>"
      ],
      "text/plain": [
       "     -1  -2  0  1  2\n",
       "0     0   0  0  1  0\n",
       "1     0   0  0  1  0\n",
       "2     0   0  0  1  0\n",
       "3     0   0  0  0  1\n",
       "4     0   0  0  0  1\n",
       "..   ..  .. .. .. ..\n",
       "303   0   0  0  1  0\n",
       "350   0   0  0  0  1\n",
       "360   0   0  0  1  0\n",
       "361   0   0  0  0  1\n",
       "378   0   0  1  0  0\n",
       "\n",
       "[399 rows x 5 columns]"
      ]
     },
     "execution_count": 48,
     "metadata": {},
     "output_type": "execute_result"
    }
   ],
   "source": [
    "y_dummy_es = pd.get_dummies(df1.query('lan == \"es\"')['evaluation'])\n",
    "y_dummy_en = pd.get_dummies(df1.query('lan == \"en\"')['evaluation'])\n",
    "y_dummy = pd.concat((y_dummy_es, y_dummy_en), axis=0)\n",
    "\n",
    "y_dummy"
   ]
  },
  {
   "cell_type": "code",
   "execution_count": null,
   "id": "6bb9c4b9",
   "metadata": {},
   "outputs": [],
   "source": []
  },
  {
   "cell_type": "markdown",
   "id": "8039795d",
   "metadata": {},
   "source": [
    "## Embedding Metrix for English"
   ]
  },
  {
   "cell_type": "code",
   "execution_count": 49,
   "id": "c5f9826e",
   "metadata": {},
   "outputs": [],
   "source": [
    "unique_ls_en = []\n",
    "\n",
    "for i in lemma_data_en:\n",
    "    for j in i.split():\n",
    "        if j in unique_ls_en:\n",
    "            continue\n",
    "        else:\n",
    "            unique_ls_en.append(j)"
   ]
  },
  {
   "cell_type": "code",
   "execution_count": 50,
   "id": "65b259f8",
   "metadata": {},
   "outputs": [],
   "source": [
    "#unique_ls_en"
   ]
  },
  {
   "cell_type": "code",
   "execution_count": 51,
   "id": "bb1ec836",
   "metadata": {},
   "outputs": [],
   "source": [
    "embeddings_index_en = {}\n",
    "\n",
    "for i in unique_ls_en:\n",
    "    embeddings_index_en[i] = list(ft_en.get_word_vector(i))"
   ]
  },
  {
   "cell_type": "code",
   "execution_count": 52,
   "id": "b0c87049",
   "metadata": {},
   "outputs": [],
   "source": [
    "#embeddings_index_en"
   ]
  },
  {
   "cell_type": "code",
   "execution_count": 53,
   "id": "24f28ff7",
   "metadata": {},
   "outputs": [
    {
     "data": {
      "text/plain": [
       "array([[ 0.        ,  0.        ,  0.        , ...,  0.        ,\n",
       "         0.        ,  0.        ],\n",
       "       [ 0.0541047 , -0.09091075, -0.02431294, ..., -0.11800613,\n",
       "         0.02951474,  0.09635747],\n",
       "       [ 0.27856457, -0.21542451, -0.03042078, ...,  0.12015723,\n",
       "         0.059674  ,  0.08752801],\n",
       "       ...,\n",
       "       [ 0.        ,  0.        ,  0.        , ...,  0.        ,\n",
       "         0.        ,  0.        ],\n",
       "       [ 0.        ,  0.        ,  0.        , ...,  0.        ,\n",
       "         0.        ,  0.        ],\n",
       "       [ 0.        ,  0.        ,  0.        , ...,  0.        ,\n",
       "         0.        ,  0.        ]])"
      ]
     },
     "execution_count": 53,
     "metadata": {},
     "output_type": "execute_result"
    }
   ],
   "source": [
    "np.random.seed(100)\n",
    "\n",
    "embedding_matrix_en = np.zeros((4000, 100))\n",
    "j=0\n",
    "for word, i in embeddings_index_en.items():\n",
    "    j=j+1\n",
    "    if j < 4000:\n",
    "        embedding_vector = embeddings_index_en.get(word)\n",
    "    \n",
    "        if embedding_vector is not None:\n",
    "            embedding_matrix_en[j] = embedding_vector\n",
    "embedding_matrix_en"
   ]
  },
  {
   "cell_type": "code",
   "execution_count": null,
   "id": "b1d787ea",
   "metadata": {},
   "outputs": [],
   "source": [
    "#concatenating embedding metrixes"
   ]
  },
  {
   "cell_type": "code",
   "execution_count": 54,
   "id": "4cd1016e",
   "metadata": {},
   "outputs": [
    {
     "data": {
      "text/plain": [
       "(8000, 100)"
      ]
     },
     "execution_count": 54,
     "metadata": {},
     "output_type": "execute_result"
    }
   ],
   "source": [
    "final_embedding_matrix = np.vstack((embedding_matrix, embedding_matrix_en))\n",
    "\n",
    "final_embedding_matrix.shape"
   ]
  },
  {
   "cell_type": "markdown",
   "id": "0ae5f495",
   "metadata": {},
   "source": [
    "## Resampling"
   ]
  },
  {
   "cell_type": "code",
   "execution_count": 55,
   "id": "591d3f7c",
   "metadata": {},
   "outputs": [
    {
     "data": {
      "text/html": [
       "<div>\n",
       "<style scoped>\n",
       "    .dataframe tbody tr th:only-of-type {\n",
       "        vertical-align: middle;\n",
       "    }\n",
       "\n",
       "    .dataframe tbody tr th {\n",
       "        vertical-align: top;\n",
       "    }\n",
       "\n",
       "    .dataframe thead th {\n",
       "        text-align: right;\n",
       "    }\n",
       "</style>\n",
       "<table border=\"1\" class=\"dataframe\">\n",
       "  <thead>\n",
       "    <tr style=\"text-align: right;\">\n",
       "      <th></th>\n",
       "      <th>0</th>\n",
       "      <th>1</th>\n",
       "      <th>2</th>\n",
       "      <th>3</th>\n",
       "      <th>4</th>\n",
       "      <th>5</th>\n",
       "      <th>6</th>\n",
       "      <th>7</th>\n",
       "      <th>8</th>\n",
       "      <th>9</th>\n",
       "      <th>...</th>\n",
       "      <th>490</th>\n",
       "      <th>491</th>\n",
       "      <th>492</th>\n",
       "      <th>493</th>\n",
       "      <th>494</th>\n",
       "      <th>495</th>\n",
       "      <th>496</th>\n",
       "      <th>497</th>\n",
       "      <th>498</th>\n",
       "      <th>499</th>\n",
       "    </tr>\n",
       "  </thead>\n",
       "  <tbody>\n",
       "    <tr>\n",
       "      <th>0</th>\n",
       "      <td>2</td>\n",
       "      <td>211</td>\n",
       "      <td>10</td>\n",
       "      <td>104</td>\n",
       "      <td>80</td>\n",
       "      <td>549</td>\n",
       "      <td>700</td>\n",
       "      <td>155</td>\n",
       "      <td>71</td>\n",
       "      <td>155</td>\n",
       "      <td>...</td>\n",
       "      <td>0</td>\n",
       "      <td>0</td>\n",
       "      <td>0</td>\n",
       "      <td>0</td>\n",
       "      <td>0</td>\n",
       "      <td>0</td>\n",
       "      <td>0</td>\n",
       "      <td>0</td>\n",
       "      <td>0</td>\n",
       "      <td>0</td>\n",
       "    </tr>\n",
       "    <tr>\n",
       "      <th>1</th>\n",
       "      <td>2</td>\n",
       "      <td>3</td>\n",
       "      <td>704</td>\n",
       "      <td>156</td>\n",
       "      <td>8</td>\n",
       "      <td>22</td>\n",
       "      <td>705</td>\n",
       "      <td>32</td>\n",
       "      <td>155</td>\n",
       "      <td>130</td>\n",
       "      <td>...</td>\n",
       "      <td>0</td>\n",
       "      <td>0</td>\n",
       "      <td>0</td>\n",
       "      <td>0</td>\n",
       "      <td>0</td>\n",
       "      <td>0</td>\n",
       "      <td>0</td>\n",
       "      <td>0</td>\n",
       "      <td>0</td>\n",
       "      <td>0</td>\n",
       "    </tr>\n",
       "    <tr>\n",
       "      <th>2</th>\n",
       "      <td>24</td>\n",
       "      <td>13</td>\n",
       "      <td>291</td>\n",
       "      <td>280</td>\n",
       "      <td>155</td>\n",
       "      <td>175</td>\n",
       "      <td>73</td>\n",
       "      <td>79</td>\n",
       "      <td>237</td>\n",
       "      <td>155</td>\n",
       "      <td>...</td>\n",
       "      <td>0</td>\n",
       "      <td>0</td>\n",
       "      <td>0</td>\n",
       "      <td>0</td>\n",
       "      <td>0</td>\n",
       "      <td>0</td>\n",
       "      <td>0</td>\n",
       "      <td>0</td>\n",
       "      <td>0</td>\n",
       "      <td>0</td>\n",
       "    </tr>\n",
       "    <tr>\n",
       "      <th>3</th>\n",
       "      <td>67</td>\n",
       "      <td>30</td>\n",
       "      <td>907</td>\n",
       "      <td>139</td>\n",
       "      <td>803</td>\n",
       "      <td>551</td>\n",
       "      <td>711</td>\n",
       "      <td>1</td>\n",
       "      <td>375</td>\n",
       "      <td>804</td>\n",
       "      <td>...</td>\n",
       "      <td>0</td>\n",
       "      <td>0</td>\n",
       "      <td>0</td>\n",
       "      <td>0</td>\n",
       "      <td>0</td>\n",
       "      <td>0</td>\n",
       "      <td>0</td>\n",
       "      <td>0</td>\n",
       "      <td>0</td>\n",
       "      <td>0</td>\n",
       "    </tr>\n",
       "    <tr>\n",
       "      <th>4</th>\n",
       "      <td>14</td>\n",
       "      <td>32</td>\n",
       "      <td>36</td>\n",
       "      <td>130</td>\n",
       "      <td>30</td>\n",
       "      <td>403</td>\n",
       "      <td>193</td>\n",
       "      <td>55</td>\n",
       "      <td>8</td>\n",
       "      <td>22</td>\n",
       "      <td>...</td>\n",
       "      <td>0</td>\n",
       "      <td>0</td>\n",
       "      <td>0</td>\n",
       "      <td>0</td>\n",
       "      <td>0</td>\n",
       "      <td>0</td>\n",
       "      <td>0</td>\n",
       "      <td>0</td>\n",
       "      <td>0</td>\n",
       "      <td>0</td>\n",
       "    </tr>\n",
       "    <tr>\n",
       "      <th>...</th>\n",
       "      <td>...</td>\n",
       "      <td>...</td>\n",
       "      <td>...</td>\n",
       "      <td>...</td>\n",
       "      <td>...</td>\n",
       "      <td>...</td>\n",
       "      <td>...</td>\n",
       "      <td>...</td>\n",
       "      <td>...</td>\n",
       "      <td>...</td>\n",
       "      <td>...</td>\n",
       "      <td>...</td>\n",
       "      <td>...</td>\n",
       "      <td>...</td>\n",
       "      <td>...</td>\n",
       "      <td>...</td>\n",
       "      <td>...</td>\n",
       "      <td>...</td>\n",
       "      <td>...</td>\n",
       "      <td>...</td>\n",
       "      <td>...</td>\n",
       "    </tr>\n",
       "    <tr>\n",
       "      <th>394</th>\n",
       "      <td>27</td>\n",
       "      <td>27</td>\n",
       "      <td>121</td>\n",
       "      <td>546</td>\n",
       "      <td>45</td>\n",
       "      <td>546</td>\n",
       "      <td>166</td>\n",
       "      <td>374</td>\n",
       "      <td>374</td>\n",
       "      <td>90</td>\n",
       "      <td>...</td>\n",
       "      <td>0</td>\n",
       "      <td>0</td>\n",
       "      <td>0</td>\n",
       "      <td>0</td>\n",
       "      <td>0</td>\n",
       "      <td>0</td>\n",
       "      <td>0</td>\n",
       "      <td>0</td>\n",
       "      <td>0</td>\n",
       "      <td>0</td>\n",
       "    </tr>\n",
       "    <tr>\n",
       "      <th>395</th>\n",
       "      <td>609</td>\n",
       "      <td>372</td>\n",
       "      <td>699</td>\n",
       "      <td>400</td>\n",
       "      <td>400</td>\n",
       "      <td>584</td>\n",
       "      <td>995</td>\n",
       "      <td>609</td>\n",
       "      <td>400</td>\n",
       "      <td>699</td>\n",
       "      <td>...</td>\n",
       "      <td>0</td>\n",
       "      <td>0</td>\n",
       "      <td>0</td>\n",
       "      <td>0</td>\n",
       "      <td>0</td>\n",
       "      <td>0</td>\n",
       "      <td>0</td>\n",
       "      <td>0</td>\n",
       "      <td>0</td>\n",
       "      <td>0</td>\n",
       "    </tr>\n",
       "    <tr>\n",
       "      <th>396</th>\n",
       "      <td>349</td>\n",
       "      <td>401</td>\n",
       "      <td>599</td>\n",
       "      <td>400</td>\n",
       "      <td>372</td>\n",
       "      <td>197</td>\n",
       "      <td>27</td>\n",
       "      <td>400</td>\n",
       "      <td>699</td>\n",
       "      <td>89</td>\n",
       "      <td>...</td>\n",
       "      <td>0</td>\n",
       "      <td>0</td>\n",
       "      <td>0</td>\n",
       "      <td>0</td>\n",
       "      <td>0</td>\n",
       "      <td>0</td>\n",
       "      <td>0</td>\n",
       "      <td>0</td>\n",
       "      <td>0</td>\n",
       "      <td>0</td>\n",
       "    </tr>\n",
       "    <tr>\n",
       "      <th>397</th>\n",
       "      <td>904</td>\n",
       "      <td>787</td>\n",
       "      <td>698</td>\n",
       "      <td>118</td>\n",
       "      <td>400</td>\n",
       "      <td>904</td>\n",
       "      <td>799</td>\n",
       "      <td>0</td>\n",
       "      <td>0</td>\n",
       "      <td>0</td>\n",
       "      <td>...</td>\n",
       "      <td>0</td>\n",
       "      <td>0</td>\n",
       "      <td>0</td>\n",
       "      <td>0</td>\n",
       "      <td>0</td>\n",
       "      <td>0</td>\n",
       "      <td>0</td>\n",
       "      <td>0</td>\n",
       "      <td>0</td>\n",
       "      <td>0</td>\n",
       "    </tr>\n",
       "    <tr>\n",
       "      <th>398</th>\n",
       "      <td>27</td>\n",
       "      <td>699</td>\n",
       "      <td>142</td>\n",
       "      <td>995</td>\n",
       "      <td>699</td>\n",
       "      <td>27</td>\n",
       "      <td>995</td>\n",
       "      <td>142</td>\n",
       "      <td>0</td>\n",
       "      <td>0</td>\n",
       "      <td>...</td>\n",
       "      <td>0</td>\n",
       "      <td>0</td>\n",
       "      <td>0</td>\n",
       "      <td>0</td>\n",
       "      <td>0</td>\n",
       "      <td>0</td>\n",
       "      <td>0</td>\n",
       "      <td>0</td>\n",
       "      <td>0</td>\n",
       "      <td>0</td>\n",
       "    </tr>\n",
       "  </tbody>\n",
       "</table>\n",
       "<p>399 rows × 500 columns</p>\n",
       "</div>"
      ],
      "text/plain": [
       "     0    1    2    3    4    5    6    7    8    9    ...  490  491  492  \\\n",
       "0      2  211   10  104   80  549  700  155   71  155  ...    0    0    0   \n",
       "1      2    3  704  156    8   22  705   32  155  130  ...    0    0    0   \n",
       "2     24   13  291  280  155  175   73   79  237  155  ...    0    0    0   \n",
       "3     67   30  907  139  803  551  711    1  375  804  ...    0    0    0   \n",
       "4     14   32   36  130   30  403  193   55    8   22  ...    0    0    0   \n",
       "..   ...  ...  ...  ...  ...  ...  ...  ...  ...  ...  ...  ...  ...  ...   \n",
       "394   27   27  121  546   45  546  166  374  374   90  ...    0    0    0   \n",
       "395  609  372  699  400  400  584  995  609  400  699  ...    0    0    0   \n",
       "396  349  401  599  400  372  197   27  400  699   89  ...    0    0    0   \n",
       "397  904  787  698  118  400  904  799    0    0    0  ...    0    0    0   \n",
       "398   27  699  142  995  699   27  995  142    0    0  ...    0    0    0   \n",
       "\n",
       "     493  494  495  496  497  498  499  \n",
       "0      0    0    0    0    0    0    0  \n",
       "1      0    0    0    0    0    0    0  \n",
       "2      0    0    0    0    0    0    0  \n",
       "3      0    0    0    0    0    0    0  \n",
       "4      0    0    0    0    0    0    0  \n",
       "..   ...  ...  ...  ...  ...  ...  ...  \n",
       "394    0    0    0    0    0    0    0  \n",
       "395    0    0    0    0    0    0    0  \n",
       "396    0    0    0    0    0    0    0  \n",
       "397    0    0    0    0    0    0    0  \n",
       "398    0    0    0    0    0    0    0  \n",
       "\n",
       "[399 rows x 500 columns]"
      ]
     },
     "execution_count": 55,
     "metadata": {},
     "output_type": "execute_result"
    }
   ],
   "source": [
    "new_df = pd.DataFrame(padded_seq)\n",
    "new_df"
   ]
  },
  {
   "cell_type": "code",
   "execution_count": 56,
   "id": "45eb6798",
   "metadata": {
    "scrolled": true
   },
   "outputs": [
    {
     "data": {
      "text/html": [
       "<div>\n",
       "<style scoped>\n",
       "    .dataframe tbody tr th:only-of-type {\n",
       "        vertical-align: middle;\n",
       "    }\n",
       "\n",
       "    .dataframe tbody tr th {\n",
       "        vertical-align: top;\n",
       "    }\n",
       "\n",
       "    .dataframe thead th {\n",
       "        text-align: right;\n",
       "    }\n",
       "</style>\n",
       "<table border=\"1\" class=\"dataframe\">\n",
       "  <thead>\n",
       "    <tr style=\"text-align: right;\">\n",
       "      <th></th>\n",
       "      <th>0</th>\n",
       "      <th>1</th>\n",
       "      <th>2</th>\n",
       "      <th>3</th>\n",
       "      <th>4</th>\n",
       "      <th>5</th>\n",
       "      <th>6</th>\n",
       "      <th>7</th>\n",
       "      <th>8</th>\n",
       "      <th>9</th>\n",
       "      <th>...</th>\n",
       "      <th>491</th>\n",
       "      <th>492</th>\n",
       "      <th>493</th>\n",
       "      <th>494</th>\n",
       "      <th>495</th>\n",
       "      <th>496</th>\n",
       "      <th>497</th>\n",
       "      <th>498</th>\n",
       "      <th>499</th>\n",
       "      <th>labels</th>\n",
       "    </tr>\n",
       "  </thead>\n",
       "  <tbody>\n",
       "    <tr>\n",
       "      <th>0</th>\n",
       "      <td>2</td>\n",
       "      <td>211</td>\n",
       "      <td>10</td>\n",
       "      <td>104</td>\n",
       "      <td>80</td>\n",
       "      <td>549</td>\n",
       "      <td>700</td>\n",
       "      <td>155</td>\n",
       "      <td>71</td>\n",
       "      <td>155</td>\n",
       "      <td>...</td>\n",
       "      <td>0</td>\n",
       "      <td>0</td>\n",
       "      <td>0</td>\n",
       "      <td>0</td>\n",
       "      <td>0</td>\n",
       "      <td>0</td>\n",
       "      <td>0</td>\n",
       "      <td>0</td>\n",
       "      <td>0</td>\n",
       "      <td>1</td>\n",
       "    </tr>\n",
       "    <tr>\n",
       "      <th>1</th>\n",
       "      <td>2</td>\n",
       "      <td>3</td>\n",
       "      <td>704</td>\n",
       "      <td>156</td>\n",
       "      <td>8</td>\n",
       "      <td>22</td>\n",
       "      <td>705</td>\n",
       "      <td>32</td>\n",
       "      <td>155</td>\n",
       "      <td>130</td>\n",
       "      <td>...</td>\n",
       "      <td>0</td>\n",
       "      <td>0</td>\n",
       "      <td>0</td>\n",
       "      <td>0</td>\n",
       "      <td>0</td>\n",
       "      <td>0</td>\n",
       "      <td>0</td>\n",
       "      <td>0</td>\n",
       "      <td>0</td>\n",
       "      <td>1</td>\n",
       "    </tr>\n",
       "    <tr>\n",
       "      <th>2</th>\n",
       "      <td>24</td>\n",
       "      <td>13</td>\n",
       "      <td>291</td>\n",
       "      <td>280</td>\n",
       "      <td>155</td>\n",
       "      <td>175</td>\n",
       "      <td>73</td>\n",
       "      <td>79</td>\n",
       "      <td>237</td>\n",
       "      <td>155</td>\n",
       "      <td>...</td>\n",
       "      <td>0</td>\n",
       "      <td>0</td>\n",
       "      <td>0</td>\n",
       "      <td>0</td>\n",
       "      <td>0</td>\n",
       "      <td>0</td>\n",
       "      <td>0</td>\n",
       "      <td>0</td>\n",
       "      <td>0</td>\n",
       "      <td>1</td>\n",
       "    </tr>\n",
       "    <tr>\n",
       "      <th>3</th>\n",
       "      <td>67</td>\n",
       "      <td>30</td>\n",
       "      <td>907</td>\n",
       "      <td>139</td>\n",
       "      <td>803</td>\n",
       "      <td>551</td>\n",
       "      <td>711</td>\n",
       "      <td>1</td>\n",
       "      <td>375</td>\n",
       "      <td>804</td>\n",
       "      <td>...</td>\n",
       "      <td>0</td>\n",
       "      <td>0</td>\n",
       "      <td>0</td>\n",
       "      <td>0</td>\n",
       "      <td>0</td>\n",
       "      <td>0</td>\n",
       "      <td>0</td>\n",
       "      <td>0</td>\n",
       "      <td>0</td>\n",
       "      <td>2</td>\n",
       "    </tr>\n",
       "    <tr>\n",
       "      <th>4</th>\n",
       "      <td>14</td>\n",
       "      <td>32</td>\n",
       "      <td>36</td>\n",
       "      <td>130</td>\n",
       "      <td>30</td>\n",
       "      <td>403</td>\n",
       "      <td>193</td>\n",
       "      <td>55</td>\n",
       "      <td>8</td>\n",
       "      <td>22</td>\n",
       "      <td>...</td>\n",
       "      <td>0</td>\n",
       "      <td>0</td>\n",
       "      <td>0</td>\n",
       "      <td>0</td>\n",
       "      <td>0</td>\n",
       "      <td>0</td>\n",
       "      <td>0</td>\n",
       "      <td>0</td>\n",
       "      <td>0</td>\n",
       "      <td>2</td>\n",
       "    </tr>\n",
       "    <tr>\n",
       "      <th>...</th>\n",
       "      <td>...</td>\n",
       "      <td>...</td>\n",
       "      <td>...</td>\n",
       "      <td>...</td>\n",
       "      <td>...</td>\n",
       "      <td>...</td>\n",
       "      <td>...</td>\n",
       "      <td>...</td>\n",
       "      <td>...</td>\n",
       "      <td>...</td>\n",
       "      <td>...</td>\n",
       "      <td>...</td>\n",
       "      <td>...</td>\n",
       "      <td>...</td>\n",
       "      <td>...</td>\n",
       "      <td>...</td>\n",
       "      <td>...</td>\n",
       "      <td>...</td>\n",
       "      <td>...</td>\n",
       "      <td>...</td>\n",
       "      <td>...</td>\n",
       "    </tr>\n",
       "    <tr>\n",
       "      <th>394</th>\n",
       "      <td>27</td>\n",
       "      <td>27</td>\n",
       "      <td>121</td>\n",
       "      <td>546</td>\n",
       "      <td>45</td>\n",
       "      <td>546</td>\n",
       "      <td>166</td>\n",
       "      <td>374</td>\n",
       "      <td>374</td>\n",
       "      <td>90</td>\n",
       "      <td>...</td>\n",
       "      <td>0</td>\n",
       "      <td>0</td>\n",
       "      <td>0</td>\n",
       "      <td>0</td>\n",
       "      <td>0</td>\n",
       "      <td>0</td>\n",
       "      <td>0</td>\n",
       "      <td>0</td>\n",
       "      <td>0</td>\n",
       "      <td>1</td>\n",
       "    </tr>\n",
       "    <tr>\n",
       "      <th>395</th>\n",
       "      <td>609</td>\n",
       "      <td>372</td>\n",
       "      <td>699</td>\n",
       "      <td>400</td>\n",
       "      <td>400</td>\n",
       "      <td>584</td>\n",
       "      <td>995</td>\n",
       "      <td>609</td>\n",
       "      <td>400</td>\n",
       "      <td>699</td>\n",
       "      <td>...</td>\n",
       "      <td>0</td>\n",
       "      <td>0</td>\n",
       "      <td>0</td>\n",
       "      <td>0</td>\n",
       "      <td>0</td>\n",
       "      <td>0</td>\n",
       "      <td>0</td>\n",
       "      <td>0</td>\n",
       "      <td>0</td>\n",
       "      <td>2</td>\n",
       "    </tr>\n",
       "    <tr>\n",
       "      <th>396</th>\n",
       "      <td>349</td>\n",
       "      <td>401</td>\n",
       "      <td>599</td>\n",
       "      <td>400</td>\n",
       "      <td>372</td>\n",
       "      <td>197</td>\n",
       "      <td>27</td>\n",
       "      <td>400</td>\n",
       "      <td>699</td>\n",
       "      <td>89</td>\n",
       "      <td>...</td>\n",
       "      <td>0</td>\n",
       "      <td>0</td>\n",
       "      <td>0</td>\n",
       "      <td>0</td>\n",
       "      <td>0</td>\n",
       "      <td>0</td>\n",
       "      <td>0</td>\n",
       "      <td>0</td>\n",
       "      <td>0</td>\n",
       "      <td>1</td>\n",
       "    </tr>\n",
       "    <tr>\n",
       "      <th>397</th>\n",
       "      <td>904</td>\n",
       "      <td>787</td>\n",
       "      <td>698</td>\n",
       "      <td>118</td>\n",
       "      <td>400</td>\n",
       "      <td>904</td>\n",
       "      <td>799</td>\n",
       "      <td>0</td>\n",
       "      <td>0</td>\n",
       "      <td>0</td>\n",
       "      <td>...</td>\n",
       "      <td>0</td>\n",
       "      <td>0</td>\n",
       "      <td>0</td>\n",
       "      <td>0</td>\n",
       "      <td>0</td>\n",
       "      <td>0</td>\n",
       "      <td>0</td>\n",
       "      <td>0</td>\n",
       "      <td>0</td>\n",
       "      <td>2</td>\n",
       "    </tr>\n",
       "    <tr>\n",
       "      <th>398</th>\n",
       "      <td>27</td>\n",
       "      <td>699</td>\n",
       "      <td>142</td>\n",
       "      <td>995</td>\n",
       "      <td>699</td>\n",
       "      <td>27</td>\n",
       "      <td>995</td>\n",
       "      <td>142</td>\n",
       "      <td>0</td>\n",
       "      <td>0</td>\n",
       "      <td>...</td>\n",
       "      <td>0</td>\n",
       "      <td>0</td>\n",
       "      <td>0</td>\n",
       "      <td>0</td>\n",
       "      <td>0</td>\n",
       "      <td>0</td>\n",
       "      <td>0</td>\n",
       "      <td>0</td>\n",
       "      <td>0</td>\n",
       "      <td>0</td>\n",
       "    </tr>\n",
       "  </tbody>\n",
       "</table>\n",
       "<p>399 rows × 501 columns</p>\n",
       "</div>"
      ],
      "text/plain": [
       "       0    1    2    3    4    5    6    7    8    9  ...  491  492  493  \\\n",
       "0      2  211   10  104   80  549  700  155   71  155  ...    0    0    0   \n",
       "1      2    3  704  156    8   22  705   32  155  130  ...    0    0    0   \n",
       "2     24   13  291  280  155  175   73   79  237  155  ...    0    0    0   \n",
       "3     67   30  907  139  803  551  711    1  375  804  ...    0    0    0   \n",
       "4     14   32   36  130   30  403  193   55    8   22  ...    0    0    0   \n",
       "..   ...  ...  ...  ...  ...  ...  ...  ...  ...  ...  ...  ...  ...  ...   \n",
       "394   27   27  121  546   45  546  166  374  374   90  ...    0    0    0   \n",
       "395  609  372  699  400  400  584  995  609  400  699  ...    0    0    0   \n",
       "396  349  401  599  400  372  197   27  400  699   89  ...    0    0    0   \n",
       "397  904  787  698  118  400  904  799    0    0    0  ...    0    0    0   \n",
       "398   27  699  142  995  699   27  995  142    0    0  ...    0    0    0   \n",
       "\n",
       "     494  495  496  497  498  499  labels  \n",
       "0      0    0    0    0    0    0       1  \n",
       "1      0    0    0    0    0    0       1  \n",
       "2      0    0    0    0    0    0       1  \n",
       "3      0    0    0    0    0    0       2  \n",
       "4      0    0    0    0    0    0       2  \n",
       "..   ...  ...  ...  ...  ...  ...     ...  \n",
       "394    0    0    0    0    0    0       1  \n",
       "395    0    0    0    0    0    0       2  \n",
       "396    0    0    0    0    0    0       1  \n",
       "397    0    0    0    0    0    0       2  \n",
       "398    0    0    0    0    0    0       0  \n",
       "\n",
       "[399 rows x 501 columns]"
      ]
     },
     "execution_count": 56,
     "metadata": {},
     "output_type": "execute_result"
    }
   ],
   "source": [
    "new_labels = list(df1.query('lan == \"es\"')['evaluation'])\n",
    "\n",
    "new_labels.extend(list(df1.query('lan == \"en\"')['evaluation']))\n",
    "\n",
    "new_df['labels'] = new_labels\n",
    "\n",
    "new_df"
   ]
  },
  {
   "cell_type": "code",
   "execution_count": 57,
   "id": "fe5aece2",
   "metadata": {},
   "outputs": [],
   "source": [
    "data_two = new_df.query('labels == \"2\"')\n",
    "data_one = new_df.query('labels == \"1\"')\n",
    "data_zero = new_df.query('labels == \"0\"')\n",
    "data_minus_one = new_df.query('labels == \"-1\"')\n",
    "data_minus_two = new_df.query('labels == \"-2\"')"
   ]
  },
  {
   "cell_type": "code",
   "execution_count": 58,
   "id": "41417297",
   "metadata": {},
   "outputs": [
    {
     "data": {
      "text/plain": [
       "2     106\n",
       "1      86\n",
       "-2     86\n",
       "0      62\n",
       "-1     59\n",
       "Name: labels, dtype: int64"
      ]
     },
     "execution_count": 58,
     "metadata": {},
     "output_type": "execute_result"
    }
   ],
   "source": [
    "new_df.labels.value_counts()"
   ]
  },
  {
   "cell_type": "code",
   "execution_count": 60,
   "id": "543e6c93",
   "metadata": {},
   "outputs": [],
   "source": [
    "from sklearn.utils import resample"
   ]
  },
  {
   "cell_type": "code",
   "execution_count": 124,
   "id": "cf5b3440",
   "metadata": {},
   "outputs": [
    {
     "name": "stdout",
     "output_type": "stream",
     "text": [
      "before sampling:  (106, 501)\n",
      "after sampling:  (150, 501)\n"
     ]
    }
   ],
   "source": [
    "np.random.seed(100)\n",
    "\n",
    "print('before sampling: ', data_two.shape)\n",
    "\n",
    "data_two_sample = resample(data_two,\n",
    "             replace=True,\n",
    "             n_samples=150,\n",
    "             random_state=5)\n",
    "\n",
    "print('after sampling: ', data_two_sample.shape)"
   ]
  },
  {
   "cell_type": "code",
   "execution_count": 125,
   "id": "b18df7fc",
   "metadata": {},
   "outputs": [
    {
     "name": "stdout",
     "output_type": "stream",
     "text": [
      "before sampling:  (86, 501)\n",
      "after sampling:  (150, 501)\n"
     ]
    }
   ],
   "source": [
    "np.random.seed(100)\n",
    "\n",
    "print('before sampling: ', data_one.shape)\n",
    "\n",
    "data_one_sample = resample(data_one,\n",
    "             replace=True,\n",
    "             n_samples=150,\n",
    "             random_state=5)\n",
    "\n",
    "print('after sampling: ', data_one_sample.shape)"
   ]
  },
  {
   "cell_type": "code",
   "execution_count": 126,
   "id": "ece8b29e",
   "metadata": {},
   "outputs": [
    {
     "name": "stdout",
     "output_type": "stream",
     "text": [
      "before sampling:  (86, 501)\n",
      "after sampling:  (150, 501)\n"
     ]
    }
   ],
   "source": [
    "np.random.seed(100)\n",
    "\n",
    "print('before sampling: ', data_minus_two.shape)\n",
    "\n",
    "data_minus_two_sample = resample(data_minus_two,\n",
    "             replace=True,\n",
    "             n_samples=150,\n",
    "             random_state=5)\n",
    "\n",
    "print('after sampling: ', data_minus_two_sample.shape)"
   ]
  },
  {
   "cell_type": "code",
   "execution_count": 127,
   "id": "d040ae7b",
   "metadata": {},
   "outputs": [
    {
     "name": "stdout",
     "output_type": "stream",
     "text": [
      "before sampling:  (62, 501)\n",
      "after sampling:  (150, 501)\n"
     ]
    }
   ],
   "source": [
    "np.random.seed(100)\n",
    "\n",
    "print('before sampling: ', data_zero.shape)\n",
    "\n",
    "data_zero_sample = resample(data_zero,\n",
    "             replace=True,\n",
    "             n_samples=150,\n",
    "             random_state=5)\n",
    "\n",
    "print('after sampling: ', data_zero_sample.shape)"
   ]
  },
  {
   "cell_type": "code",
   "execution_count": 128,
   "id": "0b797c15",
   "metadata": {},
   "outputs": [
    {
     "name": "stdout",
     "output_type": "stream",
     "text": [
      "before sampling:  (59, 501)\n",
      "after sampling:  (150, 501)\n"
     ]
    }
   ],
   "source": [
    "np.random.seed(100)\n",
    "\n",
    "print('before sampling: ', data_minus_one.shape)\n",
    "\n",
    "data_minus_one_sample = resample(data_minus_one,\n",
    "             replace=True,\n",
    "             n_samples=150,\n",
    "             random_state=5)\n",
    "\n",
    "print('after sampling: ', data_minus_one_sample.shape)"
   ]
  },
  {
   "cell_type": "code",
   "execution_count": 129,
   "id": "f3262fab",
   "metadata": {},
   "outputs": [
    {
     "name": "stdout",
     "output_type": "stream",
     "text": [
      "(750, 502)\n"
     ]
    }
   ],
   "source": [
    "full_sample = pd.concat([data_two_sample, data_one_sample, data_minus_two_sample, data_zero_sample,\n",
    "                                     data_minus_one_sample], axis=0).reset_index()\n",
    "print(full_sample.shape)"
   ]
  },
  {
   "cell_type": "code",
   "execution_count": 130,
   "id": "abeb8775",
   "metadata": {},
   "outputs": [
    {
     "data": {
      "image/png": "[encoded data removed]",
      "text/plain": [
       "<Figure size 640x480 with 1 Axes>"
      ]
     },
     "metadata": {},
     "output_type": "display_data"
    }
   ],
   "source": [
    "ax = sns.countplot(x='labels', data=full_sample,\n",
    "             palette='muted', order = full_sample.labels.value_counts().sort_index().index)\n",
    "sns.despine()\n",
    "plt.xlabel('')\n",
    "plt.ylabel('')\n",
    "plt.show()"
   ]
  },
  {
   "cell_type": "code",
   "execution_count": 105,
   "id": "1a74d7ec",
   "metadata": {},
   "outputs": [],
   "source": [
    "from sklearn.utils import shuffle\n",
    "\n",
    "np.random.seed(100)\n",
    "\n",
    "resulted_data = shuffle(full_sample)"
   ]
  },
  {
   "cell_type": "code",
   "execution_count": 106,
   "id": "2008c436",
   "metadata": {},
   "outputs": [
    {
     "data": {
      "text/html": [
       "<div>\n",
       "<style scoped>\n",
       "    .dataframe tbody tr th:only-of-type {\n",
       "        vertical-align: middle;\n",
       "    }\n",
       "\n",
       "    .dataframe tbody tr th {\n",
       "        vertical-align: top;\n",
       "    }\n",
       "\n",
       "    .dataframe thead th {\n",
       "        text-align: right;\n",
       "    }\n",
       "</style>\n",
       "<table border=\"1\" class=\"dataframe\">\n",
       "  <thead>\n",
       "    <tr style=\"text-align: right;\">\n",
       "      <th></th>\n",
       "      <th>-1</th>\n",
       "      <th>-2</th>\n",
       "      <th>0</th>\n",
       "      <th>1</th>\n",
       "      <th>2</th>\n",
       "    </tr>\n",
       "  </thead>\n",
       "  <tbody>\n",
       "    <tr>\n",
       "      <th>133</th>\n",
       "      <td>0</td>\n",
       "      <td>0</td>\n",
       "      <td>0</td>\n",
       "      <td>0</td>\n",
       "      <td>1</td>\n",
       "    </tr>\n",
       "    <tr>\n",
       "      <th>479</th>\n",
       "      <td>0</td>\n",
       "      <td>1</td>\n",
       "      <td>0</td>\n",
       "      <td>0</td>\n",
       "      <td>0</td>\n",
       "    </tr>\n",
       "    <tr>\n",
       "      <th>779</th>\n",
       "      <td>1</td>\n",
       "      <td>0</td>\n",
       "      <td>0</td>\n",
       "      <td>0</td>\n",
       "      <td>0</td>\n",
       "    </tr>\n",
       "    <tr>\n",
       "      <th>341</th>\n",
       "      <td>0</td>\n",
       "      <td>1</td>\n",
       "      <td>0</td>\n",
       "      <td>0</td>\n",
       "      <td>0</td>\n",
       "    </tr>\n",
       "    <tr>\n",
       "      <th>114</th>\n",
       "      <td>0</td>\n",
       "      <td>0</td>\n",
       "      <td>0</td>\n",
       "      <td>0</td>\n",
       "      <td>1</td>\n",
       "    </tr>\n",
       "    <tr>\n",
       "      <th>...</th>\n",
       "      <td>...</td>\n",
       "      <td>...</td>\n",
       "      <td>...</td>\n",
       "      <td>...</td>\n",
       "      <td>...</td>\n",
       "    </tr>\n",
       "    <tr>\n",
       "      <th>350</th>\n",
       "      <td>0</td>\n",
       "      <td>1</td>\n",
       "      <td>0</td>\n",
       "      <td>0</td>\n",
       "      <td>0</td>\n",
       "    </tr>\n",
       "    <tr>\n",
       "      <th>79</th>\n",
       "      <td>0</td>\n",
       "      <td>0</td>\n",
       "      <td>0</td>\n",
       "      <td>0</td>\n",
       "      <td>1</td>\n",
       "    </tr>\n",
       "    <tr>\n",
       "      <th>835</th>\n",
       "      <td>1</td>\n",
       "      <td>0</td>\n",
       "      <td>0</td>\n",
       "      <td>0</td>\n",
       "      <td>0</td>\n",
       "    </tr>\n",
       "    <tr>\n",
       "      <th>792</th>\n",
       "      <td>1</td>\n",
       "      <td>0</td>\n",
       "      <td>0</td>\n",
       "      <td>0</td>\n",
       "      <td>0</td>\n",
       "    </tr>\n",
       "    <tr>\n",
       "      <th>520</th>\n",
       "      <td>0</td>\n",
       "      <td>0</td>\n",
       "      <td>1</td>\n",
       "      <td>0</td>\n",
       "      <td>0</td>\n",
       "    </tr>\n",
       "  </tbody>\n",
       "</table>\n",
       "<p>850 rows × 5 columns</p>\n",
       "</div>"
      ],
      "text/plain": [
       "     -1  -2  0  1  2\n",
       "133   0   0  0  0  1\n",
       "479   0   1  0  0  0\n",
       "779   1   0  0  0  0\n",
       "341   0   1  0  0  0\n",
       "114   0   0  0  0  1\n",
       "..   ..  .. .. .. ..\n",
       "350   0   1  0  0  0\n",
       "79    0   0  0  0  1\n",
       "835   1   0  0  0  0\n",
       "792   1   0  0  0  0\n",
       "520   0   0  1  0  0\n",
       "\n",
       "[850 rows x 5 columns]"
      ]
     },
     "execution_count": 106,
     "metadata": {},
     "output_type": "execute_result"
    }
   ],
   "source": [
    "y = resulted_data.labels\n",
    "y_dummy = pd.get_dummies(y)\n",
    "y_dummy"
   ]
  },
  {
   "cell_type": "code",
   "execution_count": 107,
   "id": "0ebed9f2",
   "metadata": {},
   "outputs": [],
   "source": [
    "del resulted_data['index']\n",
    "del resulted_data['labels']"
   ]
  },
  {
   "cell_type": "code",
   "execution_count": 108,
   "id": "c7f77c86",
   "metadata": {},
   "outputs": [
    {
     "data": {
      "text/plain": [
       "(850, 500)"
      ]
     },
     "execution_count": 108,
     "metadata": {},
     "output_type": "execute_result"
    }
   ],
   "source": [
    "resulted_data.shape"
   ]
  },
  {
   "cell_type": "markdown",
   "id": "5aa30f6b",
   "metadata": {},
   "source": [
    "## Model Building"
   ]
  },
  {
   "cell_type": "code",
   "execution_count": 71,
   "id": "0b91b9a2",
   "metadata": {},
   "outputs": [],
   "source": [
    "from tensorflow.keras.callbacks import EarlyStopping\n",
    "\n",
    "def get_early_stopping():\n",
    "    \"\"\"\n",
    "    This function should return an EarlyStopping callback that stops learning when the\n",
    "    validation (testing) accuracy has not improved over the last N epochs.\n",
    "    \"\"\"\n",
    "    \n",
    "    early_stopping=EarlyStopping(monitor='val_loss',mode='min', patience=1)\n",
    "    \n",
    "    return early_stopping\n",
    "\n",
    "early_stopping = get_early_stopping()\n",
    "\n",
    "callbacks = [early_stopping]"
   ]
  },
  {
   "cell_type": "code",
   "execution_count": null,
   "id": "d75f1736",
   "metadata": {},
   "outputs": [],
   "source": []
  },
  {
   "cell_type": "code",
   "execution_count": 72,
   "id": "b40b5718",
   "metadata": {},
   "outputs": [],
   "source": [
    "from keras.models import Sequential\n",
    "from keras.layers import Flatten, Dense, Embedding\n",
    "from keras import regularizers\n",
    "from tensorflow.keras.layers import BatchNormalization"
   ]
  },
  {
   "cell_type": "code",
   "execution_count": 74,
   "id": "042b90eb",
   "metadata": {},
   "outputs": [
    {
     "name": "stdout",
     "output_type": "stream",
     "text": [
      "Model: \"sequential_1\"\n",
      "_________________________________________________________________\n",
      " Layer (type)                Output Shape              Param #   \n",
      "=================================================================\n",
      " embedding_1 (Embedding)     (None, 500, 100)          800000    \n",
      "                                                                 \n",
      " flatten_1 (Flatten)         (None, 50000)             0         \n",
      "                                                                 \n",
      " dense_1 (Dense)             (None, 64)                3200064   \n",
      "                                                                 \n",
      " dense_2 (Dense)             (None, 64)                4160      \n",
      "                                                                 \n",
      " dense_3 (Dense)             (None, 64)                4160      \n",
      "                                                                 \n",
      " batch_normalization (Batch  (None, 64)                256       \n",
      " Normalization)                                                  \n",
      "                                                                 \n",
      " dense_4 (Dense)             (None, 5)                 325       \n",
      "                                                                 \n",
      "=================================================================\n",
      "Total params: 4008965 (15.29 MB)\n",
      "Trainable params: 4008837 (15.29 MB)\n",
      "Non-trainable params: 128 (512.00 Byte)\n",
      "_________________________________________________________________\n"
     ]
    }
   ],
   "source": [
    "np.random.seed(100)\n",
    "\n",
    "model = Sequential()\n",
    "model.add(Embedding(8000, 100, input_length=500))\n",
    "\n",
    "model.add(Flatten()) # dimension conversion\n",
    "\n",
    "model.add(Dense(64, activation='relu'))\n",
    "\n",
    "model.add(Dense(64, activation='relu'))\n",
    "\n",
    "model.add(Dense(64, activation='relu'))\n",
    "\n",
    "model.add(BatchNormalization(axis=1))\n",
    "\n",
    "model.add(Dense(5, activation='softmax'))\n",
    "model.summary()\n",
    "\n",
    "model.layers[0].set_weights([final_embedding_matrix])\n",
    "model.layers[0].trainable = False\n",
    "\n",
    "model.compile(optimizer='rmsprop', loss='categorical_crossentropy', metrics=['accuracy'])"
   ]
  },
  {
   "cell_type": "code",
   "execution_count": 76,
   "id": "8d489e0e",
   "metadata": {},
   "outputs": [],
   "source": [
    "from sklearn.model_selection import train_test_split"
   ]
  },
  {
   "cell_type": "code",
   "execution_count": 77,
   "id": "53a6934d",
   "metadata": {},
   "outputs": [],
   "source": [
    "np.random.seed(100)\n",
    "\n",
    "x_train, x_valid, y_train, y_valid = train_test_split(resulted_data, y_dummy, test_size=0.2)"
   ]
  },
  {
   "cell_type": "code",
   "execution_count": null,
   "id": "7245797a",
   "metadata": {},
   "outputs": [],
   "source": []
  },
  {
   "cell_type": "code",
   "execution_count": 78,
   "id": "190a46e9",
   "metadata": {},
   "outputs": [
    {
     "name": "stdout",
     "output_type": "stream",
     "text": [
      "Epoch 1/20\n",
      "2/2 [==============================] - 16s 8s/step - loss: 1.6176 - accuracy: 0.2317 - val_loss: 1.5628 - val_accuracy: 0.4533\n",
      "Epoch 2/20\n",
      "2/2 [==============================] - 6s 6s/step - loss: 0.9887 - accuracy: 0.6550 - val_loss: 1.5066 - val_accuracy: 0.6267\n",
      "Epoch 3/20\n",
      "2/2 [==============================] - 3s 3s/step - loss: 0.5442 - accuracy: 0.9000 - val_loss: 1.4685 - val_accuracy: 0.7400\n",
      "Epoch 4/20\n",
      "2/2 [==============================] - 3s 3s/step - loss: 0.3442 - accuracy: 0.9300 - val_loss: 1.4428 - val_accuracy: 0.7667\n",
      "Epoch 5/20\n",
      "2/2 [==============================] - 3s 3s/step - loss: 0.2058 - accuracy: 0.9800 - val_loss: 1.4151 - val_accuracy: 0.8467\n",
      "Epoch 6/20\n",
      "2/2 [==============================] - 3s 3s/step - loss: 0.1303 - accuracy: 0.9900 - val_loss: 1.3903 - val_accuracy: 0.8533\n",
      "Epoch 7/20\n",
      "2/2 [==============================] - 3s 3s/step - loss: 0.0845 - accuracy: 0.9950 - val_loss: 1.3808 - val_accuracy: 0.8533\n",
      "Epoch 8/20\n",
      "2/2 [==============================] - 3s 3s/step - loss: 0.0622 - accuracy: 0.9950 - val_loss: 1.3704 - val_accuracy: 0.8533\n",
      "Epoch 9/20\n",
      "2/2 [==============================] - 3s 3s/step - loss: 0.0469 - accuracy: 0.9950 - val_loss: 1.3662 - val_accuracy: 0.8600\n",
      "Epoch 10/20\n",
      "2/2 [==============================] - 3s 3s/step - loss: 0.0443 - accuracy: 1.0000 - val_loss: 1.3503 - val_accuracy: 0.8667\n",
      "Epoch 11/20\n",
      "2/2 [==============================] - 3s 3s/step - loss: 0.0297 - accuracy: 1.0000 - val_loss: 1.3428 - val_accuracy: 0.8667\n",
      "Epoch 12/20\n",
      "2/2 [==============================] - 4s 3s/step - loss: 0.0242 - accuracy: 1.0000 - val_loss: 1.3263 - val_accuracy: 0.8667\n",
      "Epoch 13/20\n",
      "2/2 [==============================] - 3s 3s/step - loss: 0.0203 - accuracy: 1.0000 - val_loss: 1.3134 - val_accuracy: 0.8667\n",
      "Epoch 14/20\n",
      "2/2 [==============================] - 3s 3s/step - loss: 0.0186 - accuracy: 1.0000 - val_loss: 1.3169 - val_accuracy: 0.8600\n"
     ]
    }
   ],
   "source": [
    "history = model.fit(x_train, y_train, epochs=20, batch_size=512, validation_data=(x_valid, y_valid),\n",
    "                   callbacks=callbacks)"
   ]
  },
  {
   "cell_type": "code",
   "execution_count": 79,
   "id": "263b94a0",
   "metadata": {},
   "outputs": [
    {
     "data": {
      "text/plain": [
       "dict_keys(['loss', 'accuracy', 'val_loss', 'val_accuracy'])"
      ]
     },
     "execution_count": 79,
     "metadata": {},
     "output_type": "execute_result"
    }
   ],
   "source": [
    "history_dict = history.history\n",
    "history_dict.keys()"
   ]
  },
  {
   "cell_type": "code",
   "execution_count": null,
   "id": "0064a73f",
   "metadata": {},
   "outputs": [],
   "source": []
  },
  {
   "cell_type": "code",
   "execution_count": 81,
   "id": "cdcdda06",
   "metadata": {},
   "outputs": [
    {
     "data": {
      "image/png": "[encoded data removed]",
      "text/plain": [
       "<Figure size 640x480 with 1 Axes>"
      ]
     },
     "metadata": {},
     "output_type": "display_data"
    }
   ],
   "source": [
    "acc_values = history_dict['accuracy']\n",
    "val_acc_values = history_dict['val_accuracy']\n",
    "plt.plot(epochs, acc_values, 'bo', label='Training accuracy')\n",
    "plt.plot(epochs, val_acc_values, 'b', label='Validation accuracy')\n",
    "plt.title('Training and validation accuracy')\n",
    "plt.xlabel('Epochs')\n",
    "plt.ylabel('Accuracy')\n",
    "plt.legend()\n",
    "plt.show()"
   ]
  },
  {
   "cell_type": "code",
   "execution_count": 82,
   "id": "408a6894",
   "metadata": {},
   "outputs": [
    {
     "name": "stdout",
     "output_type": "stream",
     "text": [
      "5/5 [==============================] - 7s 8ms/step\n",
      "(150, 5)\n"
     ]
    }
   ],
   "source": [
    "predictions = model.predict(x_valid)\n",
    "\n",
    "print(predictions.shape)"
   ]
  },
  {
   "cell_type": "code",
   "execution_count": 83,
   "id": "defe9ff4",
   "metadata": {},
   "outputs": [],
   "source": [
    "y_preds = np.argmax(predictions, axis=1).tolist()\n",
    "for n in range(len(y_preds)):\n",
    "    if y_preds[n]==4: y_preds[n]='2'\n",
    "    if y_preds[n]==3: y_preds[n]='1'\n",
    "    if y_preds[n]==2: y_preds[n]='0'\n",
    "    if y_preds[n]==1: y_preds[n]='-2'\n",
    "    if y_preds[n]==0: y_preds[n]='-1'\n",
    "\n",
    "yy = y_valid.idxmax(axis=1)"
   ]
  },
  {
   "cell_type": "code",
   "execution_count": 87,
   "id": "a9064449",
   "metadata": {},
   "outputs": [],
   "source": [
    "from sklearn.metrics import classification_report"
   ]
  },
  {
   "cell_type": "code",
   "execution_count": 89,
   "id": "d22b8fe0",
   "metadata": {},
   "outputs": [
    {
     "name": "stdout",
     "output_type": "stream",
     "text": [
      "              precision    recall  f1-score   support\n",
      "\n",
      "          -1       1.00      0.65      0.79        40\n",
      "          -2       0.79      0.96      0.87        24\n",
      "           0       0.77      0.96      0.86        28\n",
      "           1       0.94      0.91      0.92        32\n",
      "           2       0.83      0.92      0.87        26\n",
      "\n",
      "    accuracy                           0.86       150\n",
      "   macro avg       0.87      0.88      0.86       150\n",
      "weighted avg       0.88      0.86      0.86       150\n",
      "\n"
     ]
    }
   ],
   "source": [
    "print(classification_report(y_preds, yy))"
   ]
  },
  {
   "cell_type": "markdown",
   "id": "1bd95789",
   "metadata": {},
   "source": [
    "## Cross-Validation"
   ]
  },
  {
   "cell_type": "code",
   "execution_count": 90,
   "id": "b1f5f8b7",
   "metadata": {},
   "outputs": [],
   "source": [
    "from sklearn.model_selection import KFold"
   ]
  },
  {
   "cell_type": "code",
   "execution_count": 91,
   "id": "3cb2fa0a",
   "metadata": {},
   "outputs": [],
   "source": [
    "np.random.seed(100)\n",
    "\n",
    "kfold = KFold(n_splits=3, shuffle=True, random_state=100)"
   ]
  },
  {
   "cell_type": "code",
   "execution_count": 119,
   "id": "81491732",
   "metadata": {},
   "outputs": [],
   "source": [
    "acc_list = []\n",
    "\n",
    "m_ls = []\n",
    "\n",
    "fold = 1"
   ]
  },
  {
   "cell_type": "code",
   "execution_count": 120,
   "id": "df8d80bb",
   "metadata": {},
   "outputs": [],
   "source": [
    "Y = y_dummy.to_numpy()\n",
    "\n",
    "X = resulted_data.to_numpy()"
   ]
  },
  {
   "cell_type": "code",
   "execution_count": 121,
   "id": "b95f5dbd",
   "metadata": {},
   "outputs": [],
   "source": [
    "def get_early_stopping():\n",
    "    \"\"\"\n",
    "    This function should return an EarlyStopping callback that stops learning when the\n",
    "    validation (testing) accuracy has not improved over the last N epochs.\n",
    "    \"\"\"\n",
    "    \n",
    "    early_stopping=EarlyStopping(monitor='loss',mode='min', patience=1)\n",
    "    \n",
    "    return early_stopping\n",
    "\n",
    "early_stopping = get_early_stopping()\n",
    "\n",
    "callbacks = [early_stopping]"
   ]
  },
  {
   "cell_type": "code",
   "execution_count": 122,
   "id": "4cf6dc7d",
   "metadata": {},
   "outputs": [
    {
     "name": "stdout",
     "output_type": "stream",
     "text": [
      "Model: \"sequential_12\"\n",
      "_________________________________________________________________\n",
      " Layer (type)                Output Shape              Param #   \n",
      "=================================================================\n",
      " embedding_12 (Embedding)    (None, 500, 100)          800000    \n",
      "                                                                 \n",
      " flatten_12 (Flatten)        (None, 50000)             0         \n",
      "                                                                 \n",
      " dense_45 (Dense)            (None, 64)                3200064   \n",
      "                                                                 \n",
      " dense_46 (Dense)            (None, 64)                4160      \n",
      "                                                                 \n",
      " dense_47 (Dense)            (None, 64)                4160      \n",
      "                                                                 \n",
      " batch_normalization_11 (Ba  (None, 64)                256       \n",
      " tchNormalization)                                               \n",
      "                                                                 \n",
      " dense_48 (Dense)            (None, 5)                 325       \n",
      "                                                                 \n",
      "=================================================================\n",
      "Total params: 4008965 (15.29 MB)\n",
      "Trainable params: 4008837 (15.29 MB)\n",
      "Non-trainable params: 128 (512.00 Byte)\n",
      "_________________________________________________________________\n",
      "Epoch 1/20\n",
      "2/2 [==============================] - 12s 73ms/step - loss: 1.6332 - accuracy: 0.2067\n",
      "Epoch 2/20\n",
      "2/2 [==============================] - 0s 50ms/step - loss: 1.0973 - accuracy: 0.6184\n",
      "Epoch 3/20\n",
      "2/2 [==============================] - 0s 57ms/step - loss: 0.6570 - accuracy: 0.8463\n",
      "Epoch 4/20\n",
      "2/2 [==============================] - 0s 58ms/step - loss: 0.4297 - accuracy: 0.9134\n",
      "Epoch 5/20\n",
      "2/2 [==============================] - 0s 68ms/step - loss: 0.2750 - accuracy: 0.9717\n",
      "Epoch 6/20\n",
      "2/2 [==============================] - 0s 60ms/step - loss: 0.1898 - accuracy: 0.9735\n",
      "Epoch 7/20\n",
      "2/2 [==============================] - 0s 66ms/step - loss: 0.1445 - accuracy: 0.9823\n",
      "Epoch 8/20\n",
      "2/2 [==============================] - 0s 64ms/step - loss: 0.1102 - accuracy: 0.9982\n",
      "Epoch 9/20\n",
      "2/2 [==============================] - 0s 67ms/step - loss: 0.0718 - accuracy: 1.0000\n",
      "Epoch 10/20\n",
      "2/2 [==============================] - 0s 60ms/step - loss: 0.0548 - accuracy: 1.0000\n",
      "Epoch 11/20\n",
      "2/2 [==============================] - 0s 50ms/step - loss: 0.0446 - accuracy: 1.0000\n",
      "Epoch 12/20\n",
      "2/2 [==============================] - 0s 61ms/step - loss: 0.0397 - accuracy: 0.9982\n",
      "Epoch 13/20\n",
      "2/2 [==============================] - 0s 70ms/step - loss: 0.0292 - accuracy: 1.0000\n",
      "Epoch 14/20\n",
      "2/2 [==============================] - 0s 51ms/step - loss: 0.0259 - accuracy: 1.0000\n",
      "Epoch 15/20\n",
      "2/2 [==============================] - 0s 66ms/step - loss: 0.0212 - accuracy: 0.9982\n",
      "Epoch 16/20\n",
      "2/2 [==============================] - 0s 65ms/step - loss: 0.0187 - accuracy: 1.0000\n",
      "Epoch 17/20\n",
      "2/2 [==============================] - 0s 46ms/step - loss: 0.0195 - accuracy: 1.0000\n",
      "Model: \"sequential_13\"\n",
      "_________________________________________________________________\n",
      " Layer (type)                Output Shape              Param #   \n",
      "=================================================================\n",
      " embedding_13 (Embedding)    (None, 500, 100)          800000    \n",
      "                                                                 \n",
      " flatten_13 (Flatten)        (None, 50000)             0         \n",
      "                                                                 \n",
      " dense_49 (Dense)            (None, 64)                3200064   \n",
      "                                                                 \n",
      " dense_50 (Dense)            (None, 64)                4160      \n",
      "                                                                 \n",
      " dense_51 (Dense)            (None, 64)                4160      \n",
      "                                                                 \n",
      " batch_normalization_12 (Ba  (None, 64)                256       \n",
      " tchNormalization)                                               \n",
      "                                                                 \n",
      " dense_52 (Dense)            (None, 5)                 325       \n",
      "                                                                 \n",
      "=================================================================\n",
      "Total params: 4008965 (15.29 MB)\n",
      "Trainable params: 4008837 (15.29 MB)\n",
      "Non-trainable params: 128 (512.00 Byte)\n",
      "_________________________________________________________________\n",
      "Epoch 1/20\n",
      "2/2 [==============================] - 9s 69ms/step - loss: 1.6088 - accuracy: 0.2487\n",
      "Epoch 2/20\n",
      "2/2 [==============================] - 0s 58ms/step - loss: 0.9470 - accuracy: 0.7125\n",
      "Epoch 3/20\n",
      "2/2 [==============================] - 0s 61ms/step - loss: 0.6134 - accuracy: 0.8430\n",
      "Epoch 4/20\n",
      "2/2 [==============================] - 0s 53ms/step - loss: 0.3523 - accuracy: 0.9418\n",
      "Epoch 5/20\n",
      "2/2 [==============================] - 0s 61ms/step - loss: 0.2713 - accuracy: 0.9594\n",
      "Epoch 6/20\n",
      "2/2 [==============================] - 0s 58ms/step - loss: 0.1737 - accuracy: 0.9735\n",
      "Epoch 7/20\n",
      "2/2 [==============================] - 0s 63ms/step - loss: 0.1199 - accuracy: 0.9859\n",
      "Epoch 8/20\n",
      "2/2 [==============================] - 0s 59ms/step - loss: 0.0945 - accuracy: 0.9824\n",
      "Epoch 9/20\n",
      "2/2 [==============================] - 0s 67ms/step - loss: 0.0750 - accuracy: 0.9859\n",
      "Epoch 10/20\n",
      "2/2 [==============================] - 0s 58ms/step - loss: 0.0628 - accuracy: 0.9929\n",
      "Epoch 11/20\n",
      "2/2 [==============================] - 0s 61ms/step - loss: 0.0524 - accuracy: 0.9929\n",
      "Epoch 12/20\n",
      "2/2 [==============================] - 0s 56ms/step - loss: 0.0428 - accuracy: 0.9947\n",
      "Epoch 13/20\n",
      "2/2 [==============================] - 0s 55ms/step - loss: 0.0375 - accuracy: 1.0000\n",
      "Epoch 14/20\n",
      "2/2 [==============================] - 0s 58ms/step - loss: 0.0313 - accuracy: 0.9965\n",
      "Epoch 15/20\n",
      "2/2 [==============================] - 0s 61ms/step - loss: 0.0258 - accuracy: 1.0000\n",
      "Epoch 16/20\n",
      "2/2 [==============================] - 0s 68ms/step - loss: 0.0196 - accuracy: 0.9965\n",
      "Epoch 17/20\n",
      "2/2 [==============================] - 0s 68ms/step - loss: 0.0167 - accuracy: 1.0000\n",
      "Epoch 18/20\n",
      "2/2 [==============================] - 0s 63ms/step - loss: 0.0166 - accuracy: 1.0000\n",
      "Epoch 19/20\n",
      "2/2 [==============================] - 0s 60ms/step - loss: 0.0124 - accuracy: 1.0000\n",
      "Epoch 20/20\n",
      "2/2 [==============================] - 0s 59ms/step - loss: 0.0112 - accuracy: 1.0000\n",
      "Model: \"sequential_14\"\n",
      "_________________________________________________________________\n",
      " Layer (type)                Output Shape              Param #   \n",
      "=================================================================\n",
      " embedding_14 (Embedding)    (None, 500, 100)          800000    \n",
      "                                                                 \n",
      " flatten_14 (Flatten)        (None, 50000)             0         \n",
      "                                                                 \n",
      " dense_53 (Dense)            (None, 64)                3200064   \n",
      "                                                                 \n",
      " dense_54 (Dense)            (None, 64)                4160      \n",
      "                                                                 \n",
      " dense_55 (Dense)            (None, 64)                4160      \n",
      "                                                                 \n",
      " batch_normalization_13 (Ba  (None, 64)                256       \n",
      " tchNormalization)                                               \n",
      "                                                                 \n",
      " dense_56 (Dense)            (None, 5)                 325       \n",
      "                                                                 \n",
      "=================================================================\n",
      "Total params: 4008965 (15.29 MB)\n",
      "Trainable params: 4008837 (15.29 MB)\n",
      "Non-trainable params: 128 (512.00 Byte)\n",
      "_________________________________________________________________\n",
      "Epoch 1/20\n",
      "2/2 [==============================] - 9s 68ms/step - loss: 1.6212 - accuracy: 0.2663\n",
      "Epoch 2/20\n",
      "2/2 [==============================] - 0s 54ms/step - loss: 1.2596 - accuracy: 0.5238\n",
      "Epoch 3/20\n",
      "2/2 [==============================] - 0s 60ms/step - loss: 0.7485 - accuracy: 0.8095\n",
      "Epoch 4/20\n",
      "2/2 [==============================] - 0s 67ms/step - loss: 0.4801 - accuracy: 0.9030\n",
      "Epoch 5/20\n",
      "2/2 [==============================] - 0s 55ms/step - loss: 0.3252 - accuracy: 0.9418\n",
      "Epoch 6/20\n",
      "2/2 [==============================] - 0s 54ms/step - loss: 0.2346 - accuracy: 0.9612\n",
      "Epoch 7/20\n",
      "2/2 [==============================] - 0s 60ms/step - loss: 0.1646 - accuracy: 0.9718\n",
      "Epoch 8/20\n",
      "2/2 [==============================] - 0s 69ms/step - loss: 0.1151 - accuracy: 0.9771\n",
      "Epoch 9/20\n",
      "2/2 [==============================] - 0s 69ms/step - loss: 0.0963 - accuracy: 0.9859\n",
      "Epoch 10/20\n",
      "2/2 [==============================] - 0s 68ms/step - loss: 0.0711 - accuracy: 0.9982\n",
      "Epoch 11/20\n",
      "2/2 [==============================] - 0s 66ms/step - loss: 0.0563 - accuracy: 1.0000\n",
      "Epoch 12/20\n",
      "2/2 [==============================] - 0s 61ms/step - loss: 0.0467 - accuracy: 1.0000\n",
      "Epoch 13/20\n",
      "2/2 [==============================] - 0s 63ms/step - loss: 0.0391 - accuracy: 1.0000\n",
      "Epoch 14/20\n",
      "2/2 [==============================] - 0s 70ms/step - loss: 0.0337 - accuracy: 1.0000\n",
      "Epoch 15/20\n",
      "2/2 [==============================] - 0s 60ms/step - loss: 0.0288 - accuracy: 1.0000\n",
      "Epoch 16/20\n",
      "2/2 [==============================] - 0s 55ms/step - loss: 0.0260 - accuracy: 1.0000\n",
      "Epoch 17/20\n",
      "2/2 [==============================] - 0s 62ms/step - loss: 0.0244 - accuracy: 1.0000\n",
      "Epoch 18/20\n",
      "2/2 [==============================] - 0s 61ms/step - loss: 0.0247 - accuracy: 0.9947\n"
     ]
    }
   ],
   "source": [
    "np.random.seed(100)\n",
    "\n",
    "for train, valid in kfold.split(X, Y):\n",
    "    \n",
    "    train_x = X[train]\n",
    "    \n",
    "    valid_x = X[valid]\n",
    "    \n",
    "    model2 = Sequential()\n",
    "    model2.add(Embedding(8000, 100, input_length=500))\n",
    "\n",
    "    model2.add(Flatten()) # dimension conversion\n",
    "    model2.add(Dense(64, activation='relu'))\n",
    "    model2.add(Dense(64, activation='relu'))\n",
    "    model2.add(Dense(64, activation='relu'))\n",
    "    model2.add(BatchNormalization(axis=1))\n",
    "    model2.add(Dense(5, activation='softmax'))\n",
    "    model2.summary()\n",
    "\n",
    "    model2.layers[0].set_weights([final_embedding_matrix])\n",
    "    model2.layers[0].trainable = False # False - means that the layer is frozen\n",
    "\n",
    "    model2.compile(optimizer='rmsprop', loss='categorical_crossentropy', metrics=['accuracy'])\n",
    "    \n",
    "    model2.fit(train_x, Y[train], epochs=20, batch_size=512,\n",
    "                   callbacks=callbacks)\n",
    "    \n",
    "    score = model2.evaluate(valid_x, Y[valid], verbose=0)\n",
    "    \n",
    "    acc_list.append(score[1] * 100)\n",
    "    \n",
    "    fold +=1"
   ]
  },
  {
   "cell_type": "code",
   "execution_count": 123,
   "id": "e29cf723",
   "metadata": {},
   "outputs": [
    {
     "name": "stdout",
     "output_type": "stream",
     "text": [
      "81.69013857841492\n",
      "82.33215808868408\n",
      "79.85865473747253\n"
     ]
    }
   ],
   "source": [
    "for i in acc_list:\n",
    "    print(i)"
   ]
  },
  {
   "cell_type": "markdown",
   "id": "c332ba47",
   "metadata": {},
   "source": [
    "# -----------------------------------------------------------------------------------------"
   ]
  },
  {
   "cell_type": "code",
   "execution_count": null,
   "id": "b3363a3d",
   "metadata": {},
   "outputs": [],
   "source": []
  }
 ],
 "metadata": {
  "kernelspec": {
   "display_name": "Python 3 (ipykernel)",
   "language": "python",
   "name": "python3"
  },
  "language_info": {
   "codemirror_mode": {
    "name": "ipython",
    "version": 3
   },
   "file_extension": ".py",
   "mimetype": "text/x-python",
   "name": "python",
   "nbconvert_exporter": "python",
   "pygments_lexer": "ipython3",
   "version": "3.9.13"
  }
 },
 "nbformat": 4,
 "nbformat_minor": 5
}
